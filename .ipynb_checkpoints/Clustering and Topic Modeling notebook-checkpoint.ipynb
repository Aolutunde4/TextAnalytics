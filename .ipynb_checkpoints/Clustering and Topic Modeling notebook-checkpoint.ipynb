{
 "cells": [
  {
   "cell_type": "markdown",
   "id": "823de9be",
   "metadata": {},
   "source": [
    "# Extract text from articles for clustering"
   ]
  },
  {
   "cell_type": "code",
   "execution_count": 1,
   "id": "c8b4fe49",
   "metadata": {},
   "outputs": [
    {
     "name": "stdout",
     "output_type": "stream",
     "text": [
      "Extracted 0 articles.\n",
      "Extracted 1000 articles.\n",
      "Extracted 2000 articles.\n",
      "Extracted 3000 articles.\n",
      "Extracted 3152 total articles.\n"
     ]
    }
   ],
   "source": [
    "##### CLUSTERING ON ALL ARTICLES ####\n",
    "import os\n",
    "from bs4 import BeautifulSoup\n",
    "import pandas as pd\n",
    "\n",
    "# get all html files from folder\n",
    "html_files = [file for file in os.listdir(\"project_htmls\") if file.endswith(\".html\")]\n",
    "\n",
    "# extract text from each article\n",
    "articles = []\n",
    "count = 0\n",
    "for article in html_files:\n",
    "    # read html content of each article\n",
    "    with open(f\"project_htmls/{article}\", \"r+b\") as fr:\n",
    "        soup = BeautifulSoup(fr.read(), \"html.parser\")\n",
    "        \n",
    "        # get text of each article\n",
    "        body = soup.find(\"div\", {\"class\": \"c-article-body u-clearfix\"})\n",
    "        # body will be None if article is in a different html format than usual\n",
    "        if body is not None:\n",
    "            text = [p.text.strip() for p in body.find_all(\"p\")] # extract text from body\n",
    "            text = \" \".join(text) # turn text into 1 string instead of list of sentences\n",
    "            articles.append(text)\n",
    "            \n",
    "            if count % 1000 == 0: \n",
    "                print(f\"Extracted {count} articles.\")\n",
    "            count += 1\n",
    "\n",
    "print(f\"Extracted {count} total articles.\")\n",
    "\n",
    "# store in df\n",
    "data = pd.DataFrame({\"articles\": articles})"
   ]
  },
  {
   "cell_type": "code",
   "execution_count": 2,
   "id": "47828acc",
   "metadata": {},
   "outputs": [
    {
     "name": "stdout",
     "output_type": "stream",
     "text": [
      "                                            articles\n",
      "0  Coronaviruses take their name from their crown...\n",
      "1  India has the world's second largest COVID-19 ...\n",
      "2  This week, an antibiotic that targets hard-to-...\n",
      "3  Voters in the Golden State passed Proposition ...\n",
      "4  Ten years ago, dead fish began washing ashore ...\n",
      "(3152, 1)\n"
     ]
    }
   ],
   "source": [
    "print(data.head())\n",
    "print(data.shape)"
   ]
  },
  {
   "cell_type": "code",
   "execution_count": 3,
   "id": "de8cd48d",
   "metadata": {},
   "outputs": [
    {
     "data": {
      "text/plain": [
       "<3152x58894 sparse matrix of type '<class 'numpy.float64'>'\n",
       "\twith 1065615 stored elements in Compressed Sparse Row format>"
      ]
     },
     "execution_count": 3,
     "metadata": {},
     "output_type": "execute_result"
    }
   ],
   "source": [
    "from sklearn.feature_extraction.text import TfidfVectorizer\n",
    "\n",
    "vectorizer = TfidfVectorizer(use_idf=True, norm=\"l2\", stop_words=\"english\", max_df=0.7)\n",
    "X = vectorizer.fit_transform(data.articles)\n",
    "X"
   ]
  },
  {
   "cell_type": "code",
   "execution_count": 4,
   "id": "9906eca0",
   "metadata": {},
   "outputs": [
    {
     "data": {
      "text/plain": [
       "(3152, 58894)"
      ]
     },
     "execution_count": 4,
     "metadata": {},
     "output_type": "execute_result"
    }
   ],
   "source": [
    "X.shape"
   ]
  },
  {
   "cell_type": "markdown",
   "id": "068c3b62",
   "metadata": {},
   "source": [
    "## K-Means Clustering "
   ]
  },
  {
   "cell_type": "code",
   "execution_count": 5,
   "id": "3a43417f",
   "metadata": {},
   "outputs": [
    {
     "data": {
      "text/plain": [
       "KMeans(n_clusters=5, random_state=0)"
      ]
     },
     "execution_count": 5,
     "metadata": {},
     "output_type": "execute_result"
    }
   ],
   "source": [
    "# initializing a model with parameters\n",
    "from sklearn.cluster import KMeans\n",
    "\n",
    "# try k-clusters\n",
    "k = 5\n",
    "kmeans = KMeans(n_clusters=k, random_state=0)\n",
    "kmeans"
   ]
  },
  {
   "cell_type": "code",
   "execution_count": 6,
   "id": "6247d8ec",
   "metadata": {},
   "outputs": [
    {
     "name": "stdout",
     "output_type": "stream",
     "text": [
      "CPU times: user 50.8 s, sys: 676 ms, total: 51.5 s\n",
      "Wall time: 6.71 s\n"
     ]
    },
    {
     "data": {
      "text/plain": [
       "KMeans(n_clusters=5, random_state=0)"
      ]
     },
     "execution_count": 6,
     "metadata": {},
     "output_type": "execute_result"
    }
   ],
   "source": [
    "%time kmeans.fit(X)"
   ]
  },
  {
   "cell_type": "markdown",
   "id": "8d22e774",
   "metadata": {},
   "source": [
    "## Adding Clusters to Dataframe"
   ]
  },
  {
   "cell_type": "code",
   "execution_count": 7,
   "id": "865e9204",
   "metadata": {},
   "outputs": [
    {
     "data": {
      "text/html": [
       "<div>\n",
       "<style scoped>\n",
       "    .dataframe tbody tr th:only-of-type {\n",
       "        vertical-align: middle;\n",
       "    }\n",
       "\n",
       "    .dataframe tbody tr th {\n",
       "        vertical-align: top;\n",
       "    }\n",
       "\n",
       "    .dataframe thead th {\n",
       "        text-align: right;\n",
       "    }\n",
       "</style>\n",
       "<table border=\"1\" class=\"dataframe\">\n",
       "  <thead>\n",
       "    <tr style=\"text-align: right;\">\n",
       "      <th></th>\n",
       "      <th>articles</th>\n",
       "      <th>cluster</th>\n",
       "    </tr>\n",
       "  </thead>\n",
       "  <tbody>\n",
       "    <tr>\n",
       "      <th>0</th>\n",
       "      <td>Coronaviruses take their name from their crown...</td>\n",
       "      <td>1</td>\n",
       "    </tr>\n",
       "    <tr>\n",
       "      <th>1</th>\n",
       "      <td>India has the world's second largest COVID-19 ...</td>\n",
       "      <td>1</td>\n",
       "    </tr>\n",
       "    <tr>\n",
       "      <th>2</th>\n",
       "      <td>This week, an antibiotic that targets hard-to-...</td>\n",
       "      <td>4</td>\n",
       "    </tr>\n",
       "    <tr>\n",
       "      <th>3</th>\n",
       "      <td>Voters in the Golden State passed Proposition ...</td>\n",
       "      <td>0</td>\n",
       "    </tr>\n",
       "    <tr>\n",
       "      <th>4</th>\n",
       "      <td>Ten years ago, dead fish began washing ashore ...</td>\n",
       "      <td>0</td>\n",
       "    </tr>\n",
       "    <tr>\n",
       "      <th>...</th>\n",
       "      <td>...</td>\n",
       "      <td>...</td>\n",
       "    </tr>\n",
       "    <tr>\n",
       "      <th>3147</th>\n",
       "      <td>The US National Institutes of Health says it i...</td>\n",
       "      <td>0</td>\n",
       "    </tr>\n",
       "    <tr>\n",
       "      <th>3148</th>\n",
       "      <td>A resident of an assisted-living facility in I...</td>\n",
       "      <td>2</td>\n",
       "    </tr>\n",
       "    <tr>\n",
       "      <th>3149</th>\n",
       "      <td>The risk of dying from COVID-19 increases sign...</td>\n",
       "      <td>1</td>\n",
       "    </tr>\n",
       "    <tr>\n",
       "      <th>3150</th>\n",
       "      <td>A freestyle skier completes a practice run ahe...</td>\n",
       "      <td>0</td>\n",
       "    </tr>\n",
       "    <tr>\n",
       "      <th>3151</th>\n",
       "      <td>Towering thunderstorms regularly roll over cen...</td>\n",
       "      <td>0</td>\n",
       "    </tr>\n",
       "  </tbody>\n",
       "</table>\n",
       "<p>3152 rows × 2 columns</p>\n",
       "</div>"
      ],
      "text/plain": [
       "                                               articles  cluster\n",
       "0     Coronaviruses take their name from their crown...        1\n",
       "1     India has the world's second largest COVID-19 ...        1\n",
       "2     This week, an antibiotic that targets hard-to-...        4\n",
       "3     Voters in the Golden State passed Proposition ...        0\n",
       "4     Ten years ago, dead fish began washing ashore ...        0\n",
       "...                                                 ...      ...\n",
       "3147  The US National Institutes of Health says it i...        0\n",
       "3148  A resident of an assisted-living facility in I...        2\n",
       "3149  The risk of dying from COVID-19 increases sign...        1\n",
       "3150  A freestyle skier completes a practice run ahe...        0\n",
       "3151  Towering thunderstorms regularly roll over cen...        0\n",
       "\n",
       "[3152 rows x 2 columns]"
      ]
     },
     "execution_count": 7,
     "metadata": {},
     "output_type": "execute_result"
    }
   ],
   "source": [
    "# add clusters to dataframe\n",
    "data[\"cluster\"] = kmeans.predict(X)\n",
    "data"
   ]
  },
  {
   "cell_type": "code",
   "execution_count": 8,
   "id": "f4de88ff",
   "metadata": {},
   "outputs": [
    {
     "data": {
      "text/plain": [
       "0    1981\n",
       "1     406\n",
       "3     314\n",
       "4     298\n",
       "2     153\n",
       "Name: cluster, dtype: int64"
      ]
     },
     "execution_count": 8,
     "metadata": {},
     "output_type": "execute_result"
    }
   ],
   "source": [
    "data.cluster.value_counts()"
   ]
  },
  {
   "cell_type": "markdown",
   "id": "c4268c8d",
   "metadata": {},
   "source": [
    "# Cluster Interpretations"
   ]
  },
  {
   "cell_type": "code",
   "execution_count": 9,
   "id": "5e48ecd6",
   "metadata": {},
   "outputs": [
    {
     "name": "stdout",
     "output_type": "stream",
     "text": [
      "CPU times: user 17.1 s, sys: 200 ms, total: 17.3 s\n",
      "Wall time: 17.2 s\n"
     ]
    }
   ],
   "source": [
    "import nltk\n",
    "%time data[\"words\"] = data.articles.apply(lambda x: nltk.word_tokenize(x))\n",
    "data[\"tagged_words\"] = data.words.apply(lambda x: nltk.pos_tag(x))"
   ]
  },
  {
   "cell_type": "code",
   "execution_count": 10,
   "id": "7d37e8cb",
   "metadata": {},
   "outputs": [],
   "source": [
    "from collections import Counter\n",
    "\n",
    "def get_counter(dataframe, stopwords=[]):\n",
    "    counter = Counter()\n",
    "    \n",
    "    for l in dataframe.tagged_words:\n",
    "        word_set = set()\n",
    "\n",
    "        for t in l:\n",
    "            word = t[0].lower()\n",
    "            tag = t[1]\n",
    "\n",
    "            if word not in stopwords:\n",
    "                word_set.add(word)\n",
    "            \n",
    "        counter.update(word_set)\n",
    "        \n",
    "    return counter\n",
    "\n",
    "from nltk.corpus import stopwords\n",
    "import string\n",
    "\n",
    "global_stopwords = stopwords.words(\"english\") \n",
    "local_stopwords = [c for c in string.punctuation] +\\\n",
    "                  ['‘', '’', '“', '”', '``', '…', '...', \"''\", \"'m\", \"'re\", \"'s\", \"'ve\", \"n't\", \"—\",\n",
    "                   'amp', 'http', 'https', 'rt', \"also\"]"
   ]
  },
  {
   "cell_type": "markdown",
   "id": "e393c241",
   "metadata": {},
   "source": [
    "## Cluster 0"
   ]
  },
  {
   "cell_type": "code",
   "execution_count": 11,
   "id": "31decabd",
   "metadata": {},
   "outputs": [
    {
     "name": "stdout",
     "output_type": "stream",
     "text": [
      "1981\n"
     ]
    },
    {
     "data": {
      "text/plain": [
       "[('says', 1753),\n",
       " ('university', 1633),\n",
       " ('researchers', 1597),\n",
       " ('research', 1511),\n",
       " ('could', 1470),\n",
       " ('one', 1462),\n",
       " ('scientists', 1387),\n",
       " ('new', 1369),\n",
       " ('would', 1327),\n",
       " ('us', 1288)]"
      ]
     },
     "execution_count": 11,
     "metadata": {},
     "output_type": "execute_result"
    }
   ],
   "source": [
    "# most frequent words in cluster 0\n",
    "print(len(data[data.cluster==0]))\n",
    "counter = get_counter(data[data.cluster == 0], global_stopwords+local_stopwords)\n",
    "counter.most_common(10)"
   ]
  },
  {
   "cell_type": "markdown",
   "id": "77f9cda7",
   "metadata": {},
   "source": [
    "### The Research cluster"
   ]
  },
  {
   "cell_type": "markdown",
   "id": "f3e688f2",
   "metadata": {},
   "source": [
    "## Cluster 1"
   ]
  },
  {
   "cell_type": "code",
   "execution_count": 12,
   "id": "fd254a34",
   "metadata": {},
   "outputs": [
    {
     "name": "stdout",
     "output_type": "stream",
     "text": [
      "406\n"
     ]
    },
    {
     "data": {
      "text/plain": [
       "[('people', 389),\n",
       " ('says', 377),\n",
       " ('researchers', 370),\n",
       " ('virus', 355),\n",
       " ('university', 354),\n",
       " ('one', 350),\n",
       " ('covid-19', 346),\n",
       " ('could', 345),\n",
       " ('new', 331),\n",
       " ('health', 323)]"
      ]
     },
     "execution_count": 12,
     "metadata": {},
     "output_type": "execute_result"
    }
   ],
   "source": [
    "# most frequent words in cluster 1\n",
    "print(len(data[data.cluster==1]))\n",
    "counter = get_counter(data[data.cluster == 1], global_stopwords+local_stopwords)\n",
    "counter.most_common(10)"
   ]
  },
  {
   "cell_type": "markdown",
   "id": "79277a97",
   "metadata": {},
   "source": [
    "### Covid-19 cluster"
   ]
  },
  {
   "cell_type": "markdown",
   "id": "93b1e3f0",
   "metadata": {},
   "source": [
    "## Cluster 2"
   ]
  },
  {
   "cell_type": "code",
   "execution_count": 13,
   "id": "893f26a2",
   "metadata": {},
   "outputs": [
    {
     "name": "stdout",
     "output_type": "stream",
     "text": [
      "153\n"
     ]
    },
    {
     "data": {
      "text/plain": [
       "[('vaccine', 152),\n",
       " ('vaccines', 151),\n",
       " ('people', 147),\n",
       " ('says', 141),\n",
       " ('could', 140),\n",
       " ('covid-19', 137),\n",
       " ('university', 133),\n",
       " ('researchers', 132),\n",
       " ('one', 130),\n",
       " ('two', 126)]"
      ]
     },
     "execution_count": 13,
     "metadata": {},
     "output_type": "execute_result"
    }
   ],
   "source": [
    "# most frequent words in cluster 2\n",
    "print(len(data[data.cluster==2]))\n",
    "counter = get_counter(data[data.cluster == 2], global_stopwords+local_stopwords)\n",
    "counter.most_common(10)"
   ]
  },
  {
   "cell_type": "markdown",
   "id": "9d4f47a7",
   "metadata": {},
   "source": [
    "### Smaller covid-19 cluster"
   ]
  },
  {
   "cell_type": "markdown",
   "id": "87d090c7",
   "metadata": {},
   "source": [
    "## Cluster 3"
   ]
  },
  {
   "cell_type": "code",
   "execution_count": 14,
   "id": "3bbc5ab9",
   "metadata": {},
   "outputs": [
    {
     "name": "stdout",
     "output_type": "stream",
     "text": [
      "314\n"
     ]
    },
    {
     "data": {
      "text/plain": [
       "[('first', 269),\n",
       " ('space', 261),\n",
       " ('says', 257),\n",
       " ('one', 249),\n",
       " ('earth', 242),\n",
       " ('years', 234),\n",
       " ('university', 234),\n",
       " ('could', 229),\n",
       " ('nasa', 222),\n",
       " ('scientists', 217)]"
      ]
     },
     "execution_count": 14,
     "metadata": {},
     "output_type": "execute_result"
    }
   ],
   "source": [
    "# most frequent words in cluster 3\n",
    "print(len(data[data.cluster==3]))\n",
    "counter = get_counter(data[data.cluster == 3], global_stopwords+local_stopwords)\n",
    "counter.most_common(10)"
   ]
  },
  {
   "cell_type": "markdown",
   "id": "6bf6aba2",
   "metadata": {},
   "source": [
    "### Space cluster"
   ]
  },
  {
   "cell_type": "markdown",
   "id": "ee7924c8",
   "metadata": {},
   "source": [
    "## Cluster 4"
   ]
  },
  {
   "cell_type": "code",
   "execution_count": 15,
   "id": "db3d1019",
   "metadata": {},
   "outputs": [
    {
     "name": "stdout",
     "output_type": "stream",
     "text": [
      "298\n"
     ]
    },
    {
     "data": {
      "text/plain": [
       "[('episode', 298),\n",
       " ('subscribe', 298),\n",
       " ('nature', 298),\n",
       " ('rss', 297),\n",
       " ('favourite', 297),\n",
       " ('podcast', 297),\n",
       " ('miss', 297),\n",
       " ('never', 297),\n",
       " ('mp3', 296),\n",
       " ('app', 296)]"
      ]
     },
     "execution_count": 15,
     "metadata": {},
     "output_type": "execute_result"
    }
   ],
   "source": [
    "# most frequent words in cluster 4\n",
    "print(len(data[data.cluster==4]))\n",
    "counter = get_counter(data[data.cluster == 4], global_stopwords+local_stopwords)\n",
    "counter.most_common(10)"
   ]
  },
  {
   "cell_type": "markdown",
   "id": "3091bb35",
   "metadata": {},
   "source": [
    "### Subscription cluster"
   ]
  },
  {
   "cell_type": "markdown",
   "id": "da4c2235",
   "metadata": {},
   "source": [
    "# Topic Modeling"
   ]
  },
  {
   "cell_type": "code",
   "execution_count": 16,
   "id": "a4c04f2b",
   "metadata": {},
   "outputs": [],
   "source": [
    "# Choosing number of topics\n",
    "num_of_topics = 27"
   ]
  },
  {
   "cell_type": "code",
   "execution_count": 17,
   "id": "46520fa4",
   "metadata": {},
   "outputs": [
    {
     "data": {
      "text/plain": [
       "LatentDirichletAllocation(n_components=27, random_state=0)"
      ]
     },
     "execution_count": 17,
     "metadata": {},
     "output_type": "execute_result"
    }
   ],
   "source": [
    "# initializing a model with parameters\n",
    "from sklearn.decomposition import LatentDirichletAllocation as LDA\n",
    "\n",
    "\n",
    "lda = LDA(n_components=num_of_topics, random_state=0)     # LDA uses randomness to get a probability distribution\n",
    "lda"
   ]
  },
  {
   "cell_type": "code",
   "execution_count": 18,
   "id": "835297b9",
   "metadata": {},
   "outputs": [
    {
     "name": "stdout",
     "output_type": "stream",
     "text": [
      "CPU times: user 3min 2s, sys: 16min 45s, total: 19min 47s\n",
      "Wall time: 2min 30s\n"
     ]
    },
    {
     "data": {
      "text/plain": [
       "LatentDirichletAllocation(n_components=27, random_state=0)"
      ]
     },
     "execution_count": 18,
     "metadata": {},
     "output_type": "execute_result"
    }
   ],
   "source": [
    "# fititng the model on the input data\n",
    "%time lda.fit(X)"
   ]
  },
  {
   "cell_type": "markdown",
   "id": "d33b64c6",
   "metadata": {},
   "source": [
    "## Getting the topic modeling outcome"
   ]
  },
  {
   "cell_type": "code",
   "execution_count": 20,
   "id": "f1d25987",
   "metadata": {},
   "outputs": [
    {
     "data": {
      "text/plain": [
       "(27, 58894)"
      ]
     },
     "execution_count": 20,
     "metadata": {},
     "output_type": "execute_result"
    }
   ],
   "source": [
    "lda.components_.shape"
   ]
  },
  {
   "cell_type": "code",
   "execution_count": 21,
   "id": "a34e43c9",
   "metadata": {},
   "outputs": [],
   "source": [
    "def show_topics(model, feature_names, num_top_words):\n",
    "    for topic_idx, topic_scores in enumerate(model.components_):\n",
    "        print(f\"*** Topic {topic_idx}:\")\n",
    "        print(\" + \".join([\"{:.2f} * {}\".format(topic_scores[i], feature_names[i]) for i in topic_scores.argsort()[::-1][:num_top_words]]))\n",
    "        print()"
   ]
  },
  {
   "cell_type": "code",
   "execution_count": 22,
   "id": "f34b945f",
   "metadata": {
    "scrolled": true
   },
   "outputs": [
    {
     "name": "stdout",
     "output_type": "stream",
     "text": [
      "*** Topic 0:\n",
      "1.04 * hunga + 0.91 * navajo + 0.87 * megaconstellations + 0.85 * tonga + 0.80 * hetz + 0.79 * starlinks + 0.79 * waltman + 0.79 * starlink + 0.79 * stimulation + 0.77 * rinderpest\n",
      "\n",
      "*** Topic 1:\n",
      "3.72 * amyloid + 2.66 * logothetis + 1.90 * mps + 1.57 * comet + 1.45 * eli + 1.37 * jordan + 1.34 * plaques + 1.27 * borisov + 1.19 * oumuamua + 1.15 * aducanumab\n",
      "\n",
      "*** Topic 2:\n",
      "5.90 * perseverance + 4.76 * rover + 4.23 * mars + 3.88 * martian + 3.65 * zhurong + 3.18 * jezero + 3.02 * bats + 2.74 * insight + 2.26 * pigs + 2.18 * cnsa\n",
      "\n",
      "*** Topic 3:\n",
      "3.14 * erc + 2.75 * hydroxychloroquine + 2.60 * cao + 2.59 * ivermectin + 2.56 * crackdown + 2.50 * gun + 2.35 * fbi + 2.13 * spinal + 2.00 * cord + 1.92 * sudan\n",
      "\n",
      "*** Topic 4:\n",
      "1.08 * jacobs + 0.82 * vannoni + 0.82 * neonicotinoids + 0.81 * furin + 0.80 * receptor + 0.78 * bulgaria + 0.75 * rhinolophus + 0.70 * brucella + 0.68 * ace2 + 0.66 * novo\n",
      "\n",
      "*** Topic 5:\n",
      "10.41 * stars + 9.45 * methane + 7.64 * quantum + 7.39 * esa + 6.95 * planets + 6.84 * star + 6.45 * webb + 6.08 * fly + 5.04 * astronomers + 4.99 * rocket\n",
      "\n",
      "*** Topic 6:\n",
      "2.11 * molnupiravir + 1.44 * attribution + 1.14 * antivirals + 1.08 * paxlovid + 1.06 * gerrard + 1.05 * otto + 0.94 * plaintiffs + 0.89 * ceu + 0.88 * estonia + 0.87 * titan\n",
      "\n",
      "*** Topic 7:\n",
      "6.08 * oa + 2.67 * ccr5 + 2.43 * hungary + 2.27 * hungarian + 1.93 * budapest + 1.33 * aeolus + 1.21 * aaas + 1.15 * lshtm + 1.11 * palkovics + 1.11 * plague\n",
      "\n",
      "*** Topic 8:\n",
      "2.98 * lieber + 2.77 * bats + 1.76 * bat + 1.69 * leak + 1.63 * arecibo + 1.51 * organoids + 1.44 * wiv + 1.44 * hhmi + 1.41 * isro + 1.37 * amr\n",
      "\n",
      "*** Topic 9:\n",
      "25.10 * gene + 19.31 * cells + 17.83 * dna + 17.06 * editing + 15.64 * crispr + 13.86 * light + 13.75 * nuclear + 13.40 * stem + 12.83 * brain + 11.89 * embryos\n",
      "\n",
      "*** Topic 10:\n",
      "1.31 * davide + 1.24 * castelvecchi + 1.13 * beer + 0.94 * crayfish + 0.84 * frieden + 0.74 * neon + 0.69 * dialysis + 0.68 * agu + 0.59 * marbled + 0.58 * jwp\n",
      "\n",
      "*** Topic 11:\n",
      "2.65 * cryo + 2.29 * mink + 2.24 * organoids + 2.23 * alphafold + 1.69 * hamsters + 1.39 * ihme + 1.30 * archaea + 1.29 * em + 1.28 * horses + 1.24 * convalescent\n",
      "\n",
      "*** Topic 12:\n",
      "7.94 * quantum + 2.96 * lhc + 2.48 * emerson + 2.45 * qubits + 2.15 * higgs + 2.10 * neutrons + 1.81 * classical + 1.66 * meerkat + 1.59 * collider + 1.58 * mascot\n",
      "\n",
      "*** Topic 13:\n",
      "1.77 * djalali + 1.15 * pubpeer + 1.15 * mitochondria + 1.12 * coli + 1.02 * voinnet + 1.02 * wastewater + 0.90 * hate + 0.89 * conspiracy + 0.86 * beetle + 0.83 * beetles\n",
      "\n",
      "*** Topic 14:\n",
      "1.67 * aps + 0.81 * refugees + 0.81 * languages + 0.80 * scotland + 0.77 * orobates + 0.76 * bots + 0.74 * titan + 0.72 * ibrahim + 0.70 * sudanese + 0.67 * ettema\n",
      "\n",
      "*** Topic 15:\n",
      "1.33 * uae + 1.30 * dama + 1.20 * rsv + 1.12 * psychedelic + 1.04 * antimatter + 0.95 * filters + 0.90 * csir + 0.88 * watanabe + 0.79 * leyen + 0.76 * houghton\n",
      "\n",
      "*** Topic 16:\n",
      "2.12 * erc + 1.24 * ferrari + 0.97 * wansink + 0.92 * ictp + 0.85 * cannabis + 0.71 * gottlieb + 0.71 * neowise + 0.65 * ugc + 0.63 * eisen + 0.61 * iceland\n",
      "\n",
      "*** Topic 17:\n",
      "2.77 * tmt + 2.70 * cfc + 2.34 * mauna + 2.32 * kea + 1.72 * ozone + 1.19 * hawaiian + 1.14 * shin + 0.97 * topological + 0.93 * qubit + 0.88 * turing\n",
      "\n",
      "*** Topic 18:\n",
      "2.47 * cooper + 1.61 * minimum + 1.06 * nsidc + 0.99 * arpa + 0.92 * particulate + 0.83 * bleaching + 0.82 * wigderson + 0.75 * noise + 0.75 * no2 + 0.72 * outage\n",
      "\n",
      "*** Topic 19:\n",
      "1.31 * frbs + 1.22 * tr4 + 1.17 * stimulation + 1.07 * spinal + 0.99 * banana + 0.97 * cord + 0.90 * downloads + 0.86 * ilc + 0.86 * cavendish + 0.79 * 1869\n",
      "\n",
      "*** Topic 20:\n",
      "76.96 * people + 76.62 * covid + 69.28 * science + 62.54 * vaccine + 57.07 * scientists + 55.86 * 19 + 55.39 * data + 53.71 * climate + 49.17 * new + 49.16 * health\n",
      "\n",
      "*** Topic 21:\n",
      "1.32 * ubi + 1.09 * hawking + 1.03 * macedonia + 0.92 * theranos + 0.91 * jasiek + 0.91 * krzysztofiak + 0.88 * lizard + 0.85 * yeast + 0.84 * twilight + 0.73 * holmes\n",
      "\n",
      "*** Topic 22:\n",
      "3.83 * boosters + 2.85 * jab + 2.58 * 617 + 2.34 * breakthrough + 2.33 * mosquitoes + 2.30 * wolbachia + 2.24 * 501y + 2.06 * infect + 2.01 * v2 + 1.99 * gisaid\n",
      "\n",
      "*** Topic 23:\n",
      "1.25 * denisova + 0.87 * denny + 0.79 * palestinian + 0.77 * cannabis + 0.75 * pääbo + 0.73 * cuttlefish + 0.73 * oco + 0.68 * onb + 0.67 * tobacco + 0.67 * wigner\n",
      "\n",
      "*** Topic 24:\n",
      "1.54 * bepicolombo + 1.20 * ipbes + 0.93 * abortion + 0.84 * singh + 0.77 * rooibos + 0.75 * landsat + 0.73 * han + 0.73 * pulsar + 0.70 * katrin + 0.68 * lévy\n",
      "\n",
      "*** Topic 25:\n",
      "62.59 * podcast + 35.77 * podcasts + 33.97 * episode + 30.88 * news + 25.03 * nature + 24.17 * subscribe + 20.53 * audio + 19.68 * highlight + 19.30 * favourite + 19.11 * rss\n",
      "\n",
      "*** Topic 26:\n",
      "4.01 * ligo + 2.20 * virgo + 1.24 * mergers + 1.00 * pla + 0.92 * brenner + 0.86 * cannabis + 0.82 * thc + 0.82 * foxp2 + 0.81 * acronym + 0.77 * introns\n",
      "\n"
     ]
    }
   ],
   "source": [
    "show_topics(lda, vectorizer.get_feature_names_out(), 10)"
   ]
  },
  {
   "cell_type": "markdown",
   "id": "598f0dfd",
   "metadata": {},
   "source": [
    "## Visualization of the Topic Modeling"
   ]
  },
  {
   "cell_type": "code",
   "execution_count": 23,
   "id": "b75f207d",
   "metadata": {},
   "outputs": [],
   "source": [
    "import pyLDAvis\n",
    "import pyLDAvis.sklearn\n",
    "import warnings\n",
    "warnings.filterwarnings('ignore', category=FutureWarning)\n",
    "warnings.filterwarnings('ignore', category=DeprecationWarning)\n",
    "\n",
    "pyLDAvis.enable_notebook()"
   ]
  },
  {
   "cell_type": "code",
   "execution_count": 24,
   "id": "9f4d5bfc",
   "metadata": {},
   "outputs": [
    {
     "data": {
      "text/html": [
       "\n",
       "<link rel=\"stylesheet\" type=\"text/css\" href=\"https://cdn.jsdelivr.net/gh/bmabey/pyLDAvis@3.3.1/pyLDAvis/js/ldavis.v1.0.0.css\">\n",
       "\n",
       "\n",
       "<div id=\"ldavis_el14707140052920033056810832682\"></div>\n",
       "<script type=\"text/javascript\">\n",
       "\n",
       "var ldavis_el14707140052920033056810832682_data = {\"mdsDat\": {\"x\": [-0.40413927671844174, 0.042951068393349986, 0.042740904841354926, 0.019080235132292834, 0.02741998342757859, 0.019986891075320378, 0.016826782931430993, 0.01630452600705357, 0.015798468913986768, 0.015560331673640801, 0.014777843357033627, 0.013912881694152824, 0.013163413134894691, 0.011461752028617624, 0.010985157646843368, 0.010961073585901161, 0.010954007336756834, 0.010802517677472106, 0.01079153113598879, 0.010687452276831363, 0.01044226581353951, 0.010026894221796001, 0.009988285569148266, 0.009936016806205487, 0.00955810599551298, 0.009485123751634647, 0.009535762290103927], \"y\": [-0.012870801859273117, -0.2607019326738701, 0.058128531604394115, 0.03378615626554273, 0.026191759470908998, 0.018425535448745967, 0.012126505742035209, 0.011509781706987151, 0.011082319476438417, 0.009900786323505233, 0.0092616986106561, 0.008622739056888266, 0.007678616925901106, 0.005831865938563266, 0.00558805026373061, 0.005335913899360317, 0.005431421356207369, 0.005177612836180048, 0.005352711499426927, 0.005049237948061492, 0.00489701484699067, 0.0044095370054285914, 0.004371971011831082, 0.004358247482999514, 0.0036749342066790197, 0.003703157935295594, 0.0036766276703856862], \"topics\": [1, 2, 3, 4, 5, 6, 7, 8, 9, 10, 11, 12, 13, 14, 15, 16, 17, 18, 19, 20, 21, 22, 23, 24, 25, 26, 27], \"cluster\": [1, 1, 1, 1, 1, 1, 1, 1, 1, 1, 1, 1, 1, 1, 1, 1, 1, 1, 1, 1, 1, 1, 1, 1, 1, 1, 1], \"Freq\": [58.14585636121965, 13.007600160615675, 4.649065321762121, 2.9600640932579054, 2.072109070716852, 1.5309263202391086, 1.1619003728699653, 1.1244983843787444, 1.0978732859311842, 1.0724026698761653, 1.0195100699992807, 0.9667994110509068, 0.9128904595115965, 0.8010610434815842, 0.7780790823587114, 0.7724418788028766, 0.7687637358224373, 0.7610062340941728, 0.7599674075754128, 0.7519904987225143, 0.7335271722348066, 0.7107934097918914, 0.7101885941683467, 0.7035551305842588, 0.6771805782088681, 0.6752828900912538, 0.6746663626337129]}, \"tinfo\": {\"Term\": [\"nature\", \"podcast\", \"news\", \"podcasts\", \"episode\", \"support\", \"does\", \"al\", \"head\", \"et\", \"google\", \"article\", \"mars\", \"gene\", \"subscribe\", \"cells\", \"audio\", \"highlight\", \"app\", \"feed\", \"element\", \"download\", \"miss\", \"browser\", \"mp3\", \"week\", \"favourite\", \"rss\", \"dna\", \"rover\", \"covid\", \"science\", \"vaccine\", \"people\", \"scientists\", \"19\", \"data\", \"climate\", \"new\", \"virus\", \"vaccines\", \"government\", \"china\", \"coronavirus\", \"health\", \"year\", \"world\", \"study\", \"team\", \"years\", \"countries\", \"pandemic\", \"united\", \"time\", \"said\", \"work\", \"million\", \"funding\", \"sars\", \"000\", \"space\", \"editing\", \"crispr\", \"stem\", \"nuclear\", \"rules\", \"epa\", \"foreign\", \"computer\", \"proposal\", \"korea\", \"edited\", \"wave\", \"french\", \"babies\", \"sequencing\", \"israel\", \"iran\", \"parliament\", \"collaborations\", \"therapies\", \"intelligence\", \"donald\", \"adults\", \"software\", \"cas9\", \"facilities\", \"embryo\", \"sequence\", \"satellites\", \"cdc\", \"gene\", \"light\", \"machine\", \"embryos\", \"dna\", \"crucial\", \"cells\", \"blood\", \"genome\", \"brain\", \"proteins\", \"sequences\", \"cell\", \"methane\", \"esa\", \"webb\", \"fly\", \"rocket\", \"telescopes\", \"ship\", \"stars\", \"storms\", \"organs\", \"jet\", \"neutron\", \"rural\", \"spacex\", \"infrared\", \"winds\", \"pruitt\", \"observing\", \"visible\", \"beneath\", \"mirror\", \"bank\", \"vehicles\", \"destroyed\", \"glacier\", \"revolution\", \"americas\", \"reactor\", \"hurricane\", \"curiosity\", \"planets\", \"pole\", \"scott\", \"ecosystem\", \"ethical\", \"observatories\", \"computing\", \"pasadena\", \"device\", \"landed\", \"quantum\", \"mathematicians\", \"star\", \"properties\", \"electrical\", \"astronomers\", \"wang\", \"holes\", \"podcast\", \"podcasts\", \"rss\", \"transcript\", \"spotify\", \"subscribe\", \"episode\", \"favourite\", \"unmissable\", \"weekday\", \"inbox\", \"apple\", \"mp3\", \"itunes\", \"howe\", \"shamini\", \"bundell\", \"browser\", \"audio\", \"noah\", \"miss\", \"element\", \"highlight\", \"electrons\", \"petri\\u0107\", \"download\", \"thompson\", \"superconductivity\", \"briefing\", \"app\", \"feed\", \"benjamin\", \"news\", \"google\", \"article\", \"discuss\", \"nature\", \"head\", \"et\", \"al\", \"does\", \"support\", \"ivermectin\", \"crackdown\", \"fbi\", \"hydroxychloroquine\", \"cao\", \"gun\", \"researchgate\", \"adolescence\", \"sudan\", \"talents\", \"chloroquine\", \"pills\", \"indicators\", \"photons\", \"lengthy\", \"democracy\", \"bulletin\", \"submitting\", \"uranium\", \"precipitation\", \"poo\", \"erc\", \"promotion\", \"forecasting\", \"jaeger\", \"schizophrenia\", \"phage\", \"soleimani\", \"cord\", \"beresheet\", \"spinal\", \"opening\", \"permit\", \"forecasts\", \"advancement\", \"sceptical\", \"diego\", \"sleep\", \"mosquitoes\", \"uae\", \"wealthy\", \"zhurong\", \"jezero\", \"cnsa\", \"tianwen\", \"mantle\", \"marsquakes\", \"deer\", \"seismometer\", \"quakes\", \"perseverance\", \"pastcast\", \"rebroadcasting\", \"sharks\", \"macchiarini\", \"dawn\", \"sulawesi\", \"grizzly\", \"isscr\", \"starcraft\", \"yellowstone\", \"geophysicist\", \"mole\", \"marsquake\", \"disinformation\", \"planitia\", \"eht\", \"150th\", \"permafrost\", \"m87\", \"flannery\", \"swine\", \"bats\", \"martian\", \"pigs\", \"infect\", \"dog\", \"pig\", \"insight\", \"rover\", \"jpl\", \"mars\", \"oa\", \"hungarian\", \"ccr5\", \"budapest\", \"hungary\", \"aeolus\", \"palkovics\", \"proxima\", \"centauri\", \"lshtm\", \"aaas\", \"vidal\", \"plague\", \"sarbecoviruses\", \"backgrounds\", \"microfluidic\", \"havens\", \"decree\", \"h3africa\", \"kosovo\", \"snakebite\", \"donna\", \"cronin\", \"censorship\", \"censored\", \"widodo\", \"fr\\u00e9d\\u00e9rique\", \"strickland\", \"nkengasong\", \"hulot\", \"channels\", \"schneider\", \"cbd\", \"teach\", \"cultures\", \"donation\", \"emerson\", \"neutrons\", \"meerkat\", \"higgs\", \"mascot\", \"lhc\", \"quarks\", \"qubits\", \"acuna\", \"hayabusa\", \"kagra\", \"5g\", \"boson\", \"lhcb\", \"taliban\", \"microglia\", \"upgrades\", \"expressions\", \"cms\", \"tiesler\", \"lundblad\", \"birbaumer\", \"skipper\", \"califf\", \"uhlenbeck\", \"efsa\", \"supremacy\", \"metallic\", \"afghanistan\", \"ethnically\", \"classical\", \"ethnicity\", \"protons\", \"quantum\", \"hadron\", \"collider\", \"bots\", \"noise\", \"ligo\", \"lieber\", \"wiv\", \"arecibo\", \"hhmi\", \"amr\", \"ncov\", \"huanan\", \"sago\", \"philae\", \"leptin\", \"daszak\", \"cables\", \"perovskite\", \"sivan\", \"pension\", \"snakebites\", \"auroras\", \"mochizuki\", \"lecturers\", \"leak\", \"isro\", \"mercer\", \"bat\", \"cong\", \"refugees\", \"corona\", \"silicon\", \"fluoroquinolones\", \"pancreatic\", \"postal\", \"processor\", \"bats\", \"luo\", \"organoids\", \"epigenetic\", \"pulsars\", \"parker\", \"comet\", \"boosters\", \"jab\", \"wolbachia\", \"501y\", \"v2\", \"adenovirus\", \"gisaid\", \"617\", \"cuba\", \"kilpatrick\", \"publons\", \"mainz\", \"regimen\", \"cassava\", \"davenport\", \"griffin\", \"superspreading\", \"yogyakarta\", \"ace2\", \"transmissibility\", \"natal\", \"airways\", \"kwazulu\", \"l2\", \"covaxin\", \"ellebedy\", \"cigarettes\", \"crotty\", \"geothermal\", \"loads\", \"topological\", \"mosquitoes\", \"breakthrough\", \"mosquito\", \"infect\", \"wealthy\", \"santiago\", \"booster\", \"vaccinate\", \"logothetis\", \"amyloid\", \"eli\", \"oumuamua\", \"plaques\", \"borisov\", \"jordan\", \"colombian\", \"t\\u00fcbingen\", \"gibbon\", \"voltage\", \"brivanlou\", \"indoor\", \"mps\", \"2i\", \"carell\", \"wikelski\", \"zamfir\", \"borgs\", \"lilly\", \"mdma\", \"anr\", \"tsao\", \"qanon\", \"ddt\", \"scid\", \"kamiokande\", \"nikos\", \"electrodes\", \"comet\", \"ventilation\", \"levine\", \"hunga\", \"interstellar\", \"tonga\", \"cortex\", \"aducanumab\", \"manaus\", \"comets\", \"stratmann\", \"alzheimer\", \"cryo\", \"alphafold\", \"mink\", \"hamsters\", \"ihme\", \"em\", \"archaea\", \"acronyms\", \"uct\", \"patapoutian\", \"muotri\", \"smalley\", \"rosamund\", \"furstenberg\", \"amazonas\", \"convalescent\", \"organoids\", \"haemoglobin\", \"spa\", \"aran\", \"ciencia\", \"toad\", \"quolls\", \"oc43\", \"callao\", \"horses\", \"organoid\", \"conscious\", \"krasnow\", \"haifa\", \"curie\", \"microscopy\", \"consciousness\", \"pet\", \"muons\", \"unpaywall\", \"display\", \"eukaryotes\", \"djalali\", \"pubpeer\", \"voinnet\", \"mitochondria\", \"coli\", \"hate\", \"anversa\", \"wren\", \"hbv\", \"babbling\", \"qu\", \"iscb\", \"polygenic\", \"nft\", \"beetles\", \"er\", \"donovan\", \"boric\", \"ahmadreza\", \"jaguars\", \"hydroxyl\", \"guinan\", \"unscientific\", \"flaherty\", \"str\", \"ct\", \"duplications\", \"corbett\", \"katrin\", \"organelles\", \"spying\", \"sewage\", \"conspiracy\", \"byrne\", \"beetle\", \"wastewater\", \"eth\", \"fuels\", \"presidency\", \"problematic\", \"ligo\", \"virgo\", \"pla\", \"brenner\", \"foxp2\", \"thc\", \"tominersen\", \"vei\", \"gutam\", \"indiarxiv\", \"yaws\", \"pfass\", \"myocarditis\", \"nips\", \"887\", \"artemieva\", \"fishbach\", \"hanford\", \"mlw\", \"sissa\", \"kakule\", \"codis\", \"nisar\", \"vdisco\", \"tepco\", \"pam\", \"pup\", \"paratek\", \"xdr\", \"cheops\", \"acronym\", \"mergers\", \"supervision\", \"ilc\", \"introns\", \"cyprus\", \"cannabis\", \"ifr\", \"neurips\", \"horses\", \"interferometer\", \"cfc\", \"tmt\", \"kea\", \"mauna\", \"hawaiian\", \"shin\", \"qubit\", \"esketamine\", \"kaidi\", \"soundscapes\", \"anyons\", \"uruguay\", \"carp\", \"moldova\", \"pandolfi\", \"edna\", \"depleting\", \"turing\", \"idai\", \"helena\", \"lbnl\", \"dft\", \"moldovan\", \"eon\", \"hawaiians\", \"delft\", \"sham\", \"g\\u00f8tzsche\", \"belle\", \"gt\", \"kaist\", \"topological\", \"microplastics\", \"cochrane\", \"ozone\", \"quantum\", \"ketamine\", \"nsidc\", \"arpa\", \"wigderson\", \"outage\", \"no2\", \"fluvoxamine\", \"minimum\", \"panchanathan\", \"cooper\", \"particulate\", \"desi\", \"asor\", \"lov\\u00e1sz\", \"bleaching\", \"inexpressible\", \"lauretta\", \"icebreaker\", \"parisi\", \"beirut\", \"munoz\", \"snailfish\", \"hemley\", \"hbp\", \"niehs\", \"casac\", \"alondra\", \"meier\", \"dnns\", \"bia\\u0142owie\\u017ca\", \"hadal\", \"acad\", \"ecj\", \"sofia\", \"sweet\", \"noise\", \"quentin\", \"microplastics\", \"navajo\", \"hetz\", \"starlinks\", \"longrich\", \"rinderpest\", \"starlink\", \"dulac\", \"baccini\", \"cruk\", \"hunga\", \"edf\", \"aad\", \"chitin\", \"farrar\", \"noctiluca\", \"glyphosate\", \"nif\", \"hansson\", \"exomoon\", \"carbs\", \"tsai\", \"ndp\", \"trojans\", \"parsonnet\", \"polygon\", \"tonga\", \"10k\", \"autistic\", \"packer\", \"surrogate\", \"waltman\", \"megaconstellations\", \"stimulation\", \"gisaid\", \"anais\", \"horses\", \"moons\", \"oscillations\", \"aps\", \"orobates\", \"sudanese\", \"ettema\", \"haps\", \"moreau\", \"simbakubwa\", \"ibrahim\", \"nnsa\", \"mitre\", \"hyaenodonts\", \"afls\", \"pampa\", \"afm\", \"khartoum\", \"coffins\", \"bashir\", \"coup\", \"asgard\", \"gedmatch\", \"dora\", \"besselaar\", \"applicant\", \"gigahertz\", \"sesame\", \"papuan\", \"muslim\", \"scotland\", \"muntaser\", \"kaya\", \"refugees\", \"titan\", \"bots\", \"tornado\", \"languages\", \"uyghur\", \"unesco\", \"dama\", \"psychedelic\", \"rsv\", \"csir\", \"lipi\", \"mande\", \"armyworm\", \"handoko\", \"leyen\", \"buso\", \"mbrsc\", \"houghton\", \"guggenmosi\", \"menopause\", \"herrero\", \"jarillo\", \"ncvc\", \"nui\", \"rapa\", \"tan\", \"yen\", \"magnetar\", \"choo\", \"andavadoaka\", \"haywired\", \"restructure\", \"libra\", \"sjoen\", \"afrigen\", \"hongmao\", \"causation\", \"watanabe\", \"filters\", \"antimatter\", \"polarstern\", \"uae\", \"harran\", \"cnpq\", \"von\", \"ingenuity\", \"ubi\", \"macedonia\", \"theranos\", \"jasiek\", \"krzysztofiak\", \"hydrogels\", \"dehgan\", \"davemaoite\", \"baobabs\", \"twilight\", \"checkerspot\", \"hedges\", \"tariffs\", \"meho\", \"taal\", \"residues\", \"competes\", \"pangenome\", \"sab\", \"edith\", \"tschauner\", \"benner\", \"baobab\", \"hawking\", \"connor\", \"locust\", \"erlich\", \"barrett\", \"belts\", \"homeopathy\", \"karlsruhe\", \"lizard\", \"yeast\", \"holmes\", \"breastfeeding\", \"cannabinoids\", \"bird\", \"saclay\", \"amber\", \"molnupiravir\", \"paxlovid\", \"gerrard\", \"otto\", \"ceu\", \"estonia\", \"regan\", \"attribution\", \"antivirals\", \"juliana\", \"alkaptonuria\", \"oda\", \"plaintiffs\", \"dragonfly\", \"conservatives\", \"turbidites\", \"p\\u00e1ez\", \"titan\", \"d614g\", \"northrop\", \"wfirst\", \"slimak\", \"apophis\", \"appeals\", \"krauss\", \"pill\", \"cos\", \"cascadia\", \"mol\", \"goyal\", \"manifesto\", \"gabriel\", \"namibia\", \"yeast\", \"curie\", \"atlas\", \"councils\", \"erc\", \"obesity\", \"mobility\", \"jacobs\", \"vannoni\", \"neonicotinoids\", \"rhinolophus\", \"brucella\", \"bulgaria\", \"furin\", \"novo\", \"ratg13\", \"rent\", \"hilgenfeld\", \"coveney\", \"munster\", \"madhi\", \"stillbirths\", \"uiuc\", \"haagmans\", \"ictv\", \"imitation\", \"stamina\", \"hearth\", \"ariel\", \"nodules\", \"covidsim\", \"meti\", \"inaoe\", \"catchpole\", \"banal\", \"mangina\", \"relampago\", \"mestizo\", \"receptor\", \"ace2\", \"aliens\", \"idaho\", \"lanzhou\", \"sponges\", \"tobacco\", \"bats\", \"bepicolombo\", \"rooibos\", \"abortion\", \"l\\u00e9vy\", \"metrologists\", \"pantanal\", \"vitt\", \"quintessence\", \"han\", \"gyroscopes\", \"pulsar\", \"ipbes\", \"singh\", \"benzene\", \"c4\", \"calorie\", \"landsat\", \"ordonez\", \"fermilab\", \"kibling\", \"katrin\", \"ccz\", \"supercell\", \"anadu\", \"laurencin\", \"microprocessors\", \"microsystems\", \"astro2020\", \"bys\", \"bjp\", \"inserm\", \"isa\", \"usda\", \"bowman\", \"tidal\", \"filters\", \"ukrainian\", \"tr4\", \"frbs\", \"downloads\", \"cavendish\", \"tgfs\", \"1869\", \"langlands\", \"vr\", \"stimulation\", \"yhrd\", \"epigenetics\", \"elouadrhiri\", \"latifa\", \"ilc\", \"rgcs\", \"banana\", \"courtine\", \"haiti\", \"kostrikis\", \"tadpoles\", \"icecube\", \"toads\", \"harkema\", \"tutankhamun\", \"biggs\", \"deltacron\", \"goggles\", \"cane\", \"54gene\", \"ophiocoma\", \"flashes\", \"peatlands\", \"aas\", \"tomb\", \"spinal\", \"cord\", \"streicker\", \"tang\", \"castelvecchi\", \"davide\", \"crayfish\", \"dialysis\", \"jwp\", \"toys\", \"lyko\", \"nordhaus\", \"marbled\", \"mose\", \"agu\", \"citrus\", \"frieden\", \"maselko\", \"wallach\", \"romer\", \"cabotegravir\", \"neon\", \"scanners\", \"chytrid\", \"goodenough\", \"beer\", \"asimov\", \"sheds\", \"lignin\", \"growers\", \"unc\", \"medieval\", \"farc\", \"thymus\", \"severed\", \"barley\", \"pet\", \"soberana\", \"fungus\", \"jordan\", \"denisova\", \"palestinian\", \"denny\", \"wigner\", \"onb\", \"p\\u00e4\\u00e4bo\", \"gof\", \"baleen\", \"duflo\", \"ncig\", \"mosaico\", \"vaginal\", \"oco\", \"okano\", \"douka\", \"eca\", \"cuttlefish\", \"ids\", \"kremer\", \"goblin\", \"tg387\", \"bartosz\", \"sangamo\", \"rudik\", \"alonso\", \"vincennes\", \"viola\", \"atiyah\", \"diffraction\", \"corvelva\", \"africarxiv\", \"cannabis\", \"tobacco\", \"israeli\", \"brca1\", \"banerjee\", \"crystals\", \"wansink\", \"ictp\", \"neowise\", \"ferrari\", \"scigen\", \"gottlieb\", \"dabholkar\", \"decontamination\", \"reconfigure\", \"myhrvold\", \"spiciformis\", \"piezo1\", \"bacho\", \"kiro\", \"hcmc\", \"piezo2\", \"marsupial\", \"quevedo\", \"grfp\", \"krogan\", \"modular\", \"salam\", \"pf\", \"livers\", \"cavefish\", \"aeruginosa\", \"eisen\", \"labb\\u00e9\", \"balaram\", \"metra\", \"erc\", \"cannabis\", \"ugc\", \"iceland\", \"sato\", \"ketamine\", \"beall\", \"gcf\", \"hammered\"], \"Freq\": [36.0, 21.0, 21.0, 12.0, 12.0, 17.0, 15.0, 14.0, 13.0, 13.0, 10.0, 10.0, 16.0, 18.0, 8.0, 32.0, 7.0, 7.0, 8.0, 7.0, 7.0, 7.0, 7.0, 7.0, 7.0, 16.0, 6.0, 6.0, 16.0, 9.0, 65.36812211183191, 59.1007540991904, 53.35027793846106, 65.65218483249399, 48.68264715008322, 47.65658323809743, 47.25494532086892, 45.821542756685275, 41.9433113175559, 40.0777332838231, 39.3670023927456, 38.381122069403546, 38.23506374508591, 37.848922638637774, 41.937040359239774, 34.704561998498846, 33.87957338091335, 33.80642527737037, 33.053662818242465, 33.139683988056525, 31.67028710619722, 31.419861556982053, 29.961130656251882, 29.720327895274547, 29.56497478105724, 28.88893842166342, 28.88411509598624, 28.783173757925184, 28.42103962447782, 26.707403934097623, 28.65503376634927, 11.335669730448119, 10.394918530340327, 8.9071493632107, 9.14198799257029, 7.6764629759672305, 7.589767561732265, 7.522775392684534, 7.224904413269854, 6.207905768333003, 6.194219637286033, 5.532828435460261, 5.495776490917319, 5.357887303859287, 5.2836433417593875, 5.210035903294772, 5.317995398877192, 5.094636054907894, 4.955563544277135, 4.923075968040041, 4.876324212346115, 4.816041335665486, 4.813283689671997, 4.7979032587953485, 4.752047395958748, 4.751824052579643, 4.739920464873932, 4.686853889641125, 4.654909136079242, 4.586926402936827, 4.5329035392112935, 16.679569023183042, 9.211740149023703, 5.6352815583819424, 7.902046695063423, 11.847533156515905, 5.056219376957426, 12.833131718983877, 7.085104217592078, 7.459096135132587, 8.523918087349735, 6.3127702948261915, 5.278861326533781, 6.514661047777013, 4.212677684102946, 3.295733760124612, 2.875796111655281, 2.710639876702926, 2.224327021194033, 1.9974869732849219, 2.0063674871144865, 4.642611060078984, 1.7764689969226255, 1.8041614247263542, 1.8570619794588934, 2.1587512222375214, 1.4998932206184004, 1.4987971413843841, 1.450302454911533, 1.3742595771134534, 1.3275266713320844, 1.3245036844339657, 1.3159451697249391, 1.3036046777852006, 1.2981340114689015, 1.8434279987882407, 1.2676103390912408, 1.2567324022261397, 1.2538974057160814, 1.2332262788721868, 1.2301054122643915, 1.2208556354988558, 1.2213560086330852, 1.1921785761823633, 3.0967262329584004, 1.379172195749249, 1.5736480938748405, 1.4742734343163082, 2.224324354658018, 1.338692281431642, 1.6522097507796225, 1.3975305236384805, 1.737756101296755, 1.4234907986650078, 3.4072082760523767, 1.4047569975924465, 3.050419403947488, 1.6805593823244596, 1.4503176413403636, 2.2476982331069184, 1.4216327389607015, 1.4262730887834574, 21.19867453497153, 12.114558669727533, 6.471917905221271, 5.645726686420439, 5.619560574421421, 8.18690151363383, 11.505060268171771, 6.536758275683977, 2.385950386039356, 2.385950386039356, 2.37912832260333, 5.492434287526171, 6.4609852022323775, 1.9375774090539593, 1.831357074156877, 1.7856202931563376, 1.7215626311164534, 6.370791977423877, 6.95440730835801, 2.736307032818725, 6.145940299810503, 6.402076119045794, 6.663386405711075, 1.5312923771244413, 0.9535554699277405, 6.229047737566238, 3.3953640816692974, 0.7921747412285248, 3.7515859115371515, 6.151168488469405, 5.879253089395656, 3.298900356471934, 10.458614875771929, 5.650141800735111, 4.8538169820662995, 3.5717051323639035, 8.477217379425685, 4.37644840923862, 4.237306719674539, 3.980562389890364, 3.6776840200420766, 3.325368748559403, 0.7004348411711524, 0.6908280155952379, 0.6342579649865788, 0.7418232515768587, 0.7009285722062555, 0.6739044308705088, 0.4982282380576635, 0.46315455810694556, 0.518686604574352, 0.5023204718466672, 0.45035500055733274, 0.3954954224476296, 0.42278714332121864, 0.4526563914629565, 0.38334197006038373, 0.3853439547728442, 0.3506066451186192, 0.3520420205898105, 0.47664054526809285, 0.3398567116549645, 0.4102758719864758, 0.847195528478485, 0.3611196330061002, 0.43841205979155057, 0.31079500714298075, 0.30938614272505915, 0.3081909026878263, 0.30146516045619864, 0.5410561144467366, 0.2897128721494047, 0.573801671816343, 0.47214381432994973, 0.4273020063193876, 0.4769316639632339, 0.38080544939983635, 0.44888661538016067, 0.4892667376125976, 0.4306759753652738, 0.46796306297170154, 0.41735571941284655, 0.3916877568826788, 0.7835951055516288, 0.6831393601134537, 0.46775092988246186, 0.4126260609514712, 0.36770443339180525, 0.36700180823465883, 0.35288888816474473, 0.3439401549194872, 0.4390213574104765, 1.2670022065249569, 0.29148854869415153, 0.29148854869415153, 0.30392828919192194, 0.2784659331405855, 0.32832815757334294, 0.2760539052637136, 0.2611535853758188, 0.262785568331149, 0.2294496404206916, 0.20962226841524478, 0.2705368818719753, 0.20556508303965748, 0.20197782906907305, 0.23811808173656404, 0.20113810707424093, 0.1996891538703225, 0.2870501446177772, 0.2834507714284559, 0.20737559182725024, 0.19908970888514563, 0.247043367931893, 0.6476511578534517, 0.8329948899823885, 0.48436501337475313, 0.43179891902341716, 0.267068733740322, 0.40301895709232743, 0.5874107613717097, 1.0217162036254022, 0.40692721519337527, 0.9074804496862948, 1.050098837340451, 0.39209242119611326, 0.461742224147636, 0.33357447616066493, 0.4195656745017079, 0.22972185438886328, 0.1916502722262682, 0.18742794647352362, 0.18138476840645887, 0.19850571703626535, 0.20951275197045938, 0.1514818668886596, 0.19133828045197043, 0.1420036747739714, 0.16937808649663974, 0.13336490261102008, 0.1390177409504929, 0.14033618565606537, 0.12583082016286307, 0.12423798352158043, 0.15833174468350864, 0.16378973425636922, 0.11589904085026234, 0.1313553804905004, 0.11737483244721045, 0.11430476562190443, 0.1179682354582703, 0.14466823380290245, 0.10877746594539346, 0.10818209951631631, 0.16668699617870253, 0.13910638014940152, 0.159717848872803, 0.18750519643836958, 0.1643280583913534, 0.12778771682465656, 0.41773340135717707, 0.35372856245429535, 0.27890960838848183, 0.3623518500476448, 0.2653378580660224, 0.4982529307310984, 0.23022374824326777, 0.4119700945870875, 0.21630589069443346, 0.20787568420149272, 0.18147249975884983, 0.18900123660912632, 0.22024349193636394, 0.17502389450575598, 0.1801961478852315, 0.16325141175616276, 0.17198483597340566, 0.21172374350078652, 0.14720024260297565, 0.13764956667607608, 0.1360079360616049, 0.13558045743691008, 0.15489613038367492, 0.17675332591653078, 0.12938830294250833, 0.12474044323415967, 0.13557824818426542, 0.1637422052134447, 0.18042464422526686, 0.1181445507698834, 0.303538571936799, 0.19266561479401395, 0.25821242352249846, 1.3353245627779935, 0.1972294684387857, 0.26657382728848006, 0.15539390507810988, 0.17836678715829693, 0.17571665625127975, 0.4911693101919486, 0.23797004746737926, 0.26926949496764274, 0.23766077144700545, 0.22599654033021824, 0.22431327916833893, 0.20831722216654494, 0.17376138292780605, 0.17279911739564127, 0.1897876651270031, 0.19440866200776316, 0.1708398598395623, 0.15137113193102603, 0.17202961361376082, 0.14741902267321744, 0.13829345116624056, 0.13660398117483424, 0.13530773549466463, 0.1273032836521346, 0.27811997958566376, 0.23351311567079097, 0.13737757309838505, 0.29024530518034897, 0.11123646650401608, 0.17571570290107846, 0.1805528760487692, 0.16272692140702597, 0.10205991208769237, 0.1253837470710891, 0.0984053522778928, 0.11859711061835901, 0.45706466948645996, 0.12826749408217208, 0.24935642103189845, 0.14046456779567013, 0.13420420997119298, 0.18856273733378995, 0.15494017372265717, 0.6189890164565884, 0.46129293031558904, 0.37264502673255473, 0.36286885125868257, 0.324660095405181, 0.2561729487452226, 0.3220956449944491, 0.4165954376897507, 0.24918808031624734, 0.16115128688636307, 0.1688954261693547, 0.18387691847866433, 0.1908976321118083, 0.13996980472984452, 0.14715882466933106, 0.15301693651181614, 0.13826851813806557, 0.13394162854411246, 0.21386660598153726, 0.20170880511312464, 0.14109539299380178, 0.13411031484883956, 0.13261569403654927, 0.14435071449330336, 0.12441963038248284, 0.12819859815331366, 0.1577207116964722, 0.11885129485798142, 0.13619842418797276, 0.1583867235301914, 0.2200251111109738, 0.37713738368028554, 0.37844681119285123, 0.25501928535481055, 0.33261931665550837, 0.23459225595654185, 0.14811849405601532, 0.2780330216813975, 0.17909986864927369, 0.4128959127748491, 0.5774405645885452, 0.22430955827856805, 0.1845085039511265, 0.2076759355917112, 0.1970564471391207, 0.21326887410043643, 0.13904314533176226, 0.15908772047035658, 0.12166194757880638, 0.13109699026127236, 0.11998685027508656, 0.15318005437279064, 0.2952163039444584, 0.11614425179330146, 0.11458695702882932, 0.12093831673132673, 0.10890894568792285, 0.10850270832049456, 0.10526784186239906, 0.1049443563481504, 0.127533235588658, 0.10075651618991521, 0.09974324682903549, 0.10864918679594303, 0.09694565852278894, 0.10432789716908589, 0.10473085704666173, 0.12583425483485733, 0.24305583032260672, 0.16438873556070635, 0.1681825629669726, 0.1350445668201566, 0.16138017037688918, 0.12501923935825665, 0.14762083409994753, 0.17880679414678147, 0.11160060685186733, 0.11122345910496728, 0.11045305121650646, 0.11152861426087396, 0.3935712816181695, 0.33064567807474876, 0.3396842774183295, 0.251291451886849, 0.20644224148720378, 0.19169875016161786, 0.19328601696551034, 0.1460324577547629, 0.16088290431044622, 0.12364244184163395, 0.117654843047335, 0.11707777689531974, 0.11438811064091411, 0.10951148035767444, 0.1094807132769104, 0.18418999414653334, 0.3333531003680183, 0.11590499923893927, 0.10542434785899325, 0.10041602114101536, 0.0974412894449172, 0.09767489801093, 0.09374183254966473, 0.09339193734171655, 0.08997532353580147, 0.1899982453557658, 0.09646843729631634, 0.11175007516227277, 0.08465761297772724, 0.09142953225161786, 0.12871137380138784, 0.16532194062689567, 0.12679808898863998, 0.12123970090457047, 0.1034884013123876, 0.10982349494682662, 0.10714750446302874, 0.10122852881908433, 0.2502962249070272, 0.16274566083100342, 0.14382452072984034, 0.1622979954877942, 0.15782470108523583, 0.12708074716451848, 0.11726142245408817, 0.1162584896806526, 0.10718241609718095, 0.10230438459069036, 0.09918702512566059, 0.09901976632699731, 0.09737823167704977, 0.09485942549288356, 0.11806856361424332, 0.09113845289495945, 0.08757721327906468, 0.0857227468522217, 0.08539329292005975, 0.08744673225702988, 0.08188252474638523, 0.07885234814796374, 0.08022550094240745, 0.07762099362367376, 0.0849896899848701, 0.0992671492158133, 0.08011411706081727, 0.08399235181747797, 0.10800394037515566, 0.0816992218120172, 0.09865408179853594, 0.11634853892763443, 0.12625674430646572, 0.10447920155122535, 0.12108109459915486, 0.14365490050633142, 0.0981082023867164, 0.10211835197509991, 0.08804830502624741, 0.08805495711040884, 0.5081300777242785, 0.2783349042048145, 0.12715457702163951, 0.11665310521811983, 0.1035134070459036, 0.10375216650094037, 0.09188224267884083, 0.09113547816417866, 0.08980816899733751, 0.0878656852208171, 0.08905163751969838, 0.08610161617821784, 0.09317402011521478, 0.08195929729631764, 0.07984786433616947, 0.076298262651237, 0.07504021236470777, 0.07421063973608813, 0.07288598911547088, 0.07245275520034897, 0.07181600289281834, 0.07020729660649513, 0.06935651684241531, 0.06537563108191968, 0.062340150694915296, 0.07243884912437237, 0.06689242438715765, 0.06006961421339868, 0.05953410158149897, 0.06517579984446473, 0.10287833933835637, 0.15670427112847948, 0.0825363166281687, 0.08758081213234413, 0.09791565621975318, 0.0720766149163072, 0.1087697558853066, 0.08091089002235076, 0.08550352666903642, 0.08640714226479253, 0.09002458267974764, 0.33300402779371413, 0.341185884057906, 0.28631938062245693, 0.2881907651815872, 0.146872475166451, 0.14010891344544907, 0.11477593041296708, 0.10216377738706241, 0.09821411418384815, 0.09616667882899498, 0.09172514896295118, 0.10754695300469948, 0.09424828956923759, 0.08287968488582001, 0.09530894645046019, 0.07890311942638648, 0.09275550227074829, 0.10870260903199427, 0.07439163192544199, 0.0738451588468524, 0.08967535026581391, 0.06843685440918383, 0.06809303756105012, 0.06733691280855443, 0.061279045028208586, 0.06930197281818691, 0.0668353172591686, 0.06009274544255376, 0.06567194465162757, 0.05805063597395964, 0.08591077361548816, 0.1193703784734079, 0.08812436748172435, 0.09619636887492569, 0.21276364291833783, 0.10040896130086284, 0.07111054900817348, 0.1299181323130118, 0.12172385539879124, 0.10002272608053082, 0.08839962931918222, 0.0918802521196289, 0.0805461102811018, 0.19776575312461808, 0.07765378219342323, 0.30246001471502093, 0.1124925880222437, 0.07516461316272308, 0.07432067462044223, 0.08236174127500362, 0.10157122375554328, 0.06914939837396128, 0.06868099752364651, 0.08138666378630932, 0.06711734278297962, 0.07267634327410316, 0.06472183345784795, 0.06895789442201426, 0.06119503862352502, 0.07326663036977493, 0.057050413233716284, 0.05653524998793427, 0.0696851075830216, 0.05716418576038786, 0.05464962789775644, 0.054048710241876345, 0.06895534479349648, 0.07125279271846612, 0.060086824458826904, 0.08812864587928794, 0.06539960558729126, 0.09223699546260244, 0.06542095288359925, 0.06529784382514782, 0.11090014090048665, 0.09733796233194021, 0.09646482362326929, 0.09371206365852801, 0.09423457652378675, 0.0961961589483591, 0.08326387663780271, 0.08043455022488, 0.08783648905476422, 0.12749331277594925, 0.07607220829591402, 0.0747526190551017, 0.07407642004761279, 0.07959348845923003, 0.0721481740088643, 0.08128859313791899, 0.06958783481818989, 0.07255805768564308, 0.06934077097189471, 0.06797824618552725, 0.08363332347027964, 0.0645033635369248, 0.06420368458945527, 0.06321406030946154, 0.06302155837855285, 0.10351638856954389, 0.06207753576617812, 0.06293801466487976, 0.06114783257402481, 0.07313260880348853, 0.0962711260046865, 0.10679738412983157, 0.09609908793548451, 0.08108211076360249, 0.06462803652825334, 0.0676914632513033, 0.06620654034201943, 0.0647003951939552, 0.20168290240517428, 0.09378808966920255, 0.08521890922438655, 0.08122389288497367, 0.08085993671571083, 0.07889927333579884, 0.07757919620114168, 0.08682175470481975, 0.07639152002993833, 0.07189542904254859, 0.07098544442768544, 0.06948724944542074, 0.06899956112518855, 0.06842164104011215, 0.06651001571219184, 0.0635824266262411, 0.0615625256722684, 0.06940224258424271, 0.06420962189268775, 0.07881594568811302, 0.06280190044946324, 0.05393821735099866, 0.06497767889469244, 0.05864643435855298, 0.056000499643885544, 0.05522259201641547, 0.06301245015536965, 0.09690346674548973, 0.050810240632045055, 0.05187280097102148, 0.09852031246296918, 0.08926916233556317, 0.09243521894855304, 0.07921396575378996, 0.0979698732094895, 0.06376012396211125, 0.06322110141393518, 0.15706893870785166, 0.13527568201290077, 0.14545868764843092, 0.10894924541963957, 0.0870301089729025, 0.08258719187730144, 0.07826233063583833, 0.07908794449089561, 0.09541650310732724, 0.07450641924944605, 0.07449665873626486, 0.09158686697535345, 0.06995915088202853, 0.08325583922620161, 0.06392778541091962, 0.06392778541091962, 0.06303836265162704, 0.06289221702927651, 0.06289221702927651, 0.0667598336683169, 0.06838819919923804, 0.0626091884358545, 0.05946917144959183, 0.05869237167472977, 0.05855923265951519, 0.05989242257336278, 0.0568851282093397, 0.05671500944571323, 0.05585572629829981, 0.0550886255483166, 0.07166187764387529, 0.10689634814901378, 0.11538903903189718, 0.12593845837231282, 0.07457552680323447, 0.16084872995755942, 0.08669246082133189, 0.06494782854029708, 0.07818880458669218, 0.06782020428748724, 0.1579775108098775, 0.12295034655551462, 0.11068298947288684, 0.10963169011408902, 0.10963169011408902, 0.08253564977357128, 0.08165549456316908, 0.08011948388098235, 0.0779663847820039, 0.10015450179179392, 0.07499209549906977, 0.07334267968214543, 0.08095646537066299, 0.07416039605732007, 0.07498707337858279, 0.07484956381090144, 0.06566959651010273, 0.06641038400399525, 0.06369965933665538, 0.07142975519006002, 0.06049446465692442, 0.060236371680451144, 0.06976563545715604, 0.13118581768927648, 0.08374303315360487, 0.05926584817297369, 0.06608717022309266, 0.07315802142875968, 0.05489802726669549, 0.055142482366166826, 0.05686074922303773, 0.10518821398350711, 0.10218280174608572, 0.08786644025091585, 0.07842589089213352, 0.07003096924118433, 0.08729459239574026, 0.06969298834818352, 0.06670059751244256, 0.24711219105628227, 0.12621790833897614, 0.12384491862507621, 0.12347245130921136, 0.10393255649695403, 0.10365279322618307, 0.09574981656707965, 0.1682760893720788, 0.13371956816941824, 0.08972946711313001, 0.08649561537448089, 0.07342746051565725, 0.11015422816975891, 0.07266678925317377, 0.0792697115687512, 0.06038466716507127, 0.0581780126998992, 0.10151373084369576, 0.0580491685950904, 0.058144729395998615, 0.08462166639188234, 0.055949247494820144, 0.05442161048557353, 0.0789423264809949, 0.057090729682746234, 0.0706479367973521, 0.05145708213516815, 0.055739773425970536, 0.055479005067367186, 0.04956316576070106, 0.06657874292634844, 0.09667260985056664, 0.06082058763752359, 0.08058371864934964, 0.07040294145267942, 0.07788192393189419, 0.06049807756395182, 0.09192185710909044, 0.05967857410600511, 0.059143487969359636, 0.1235425154165744, 0.0939266939456018, 0.09378361880888267, 0.08616375733803343, 0.08008814624546709, 0.08926207609300364, 0.09221937784981492, 0.07537948861105238, 0.06701306780719476, 0.06333537449563499, 0.06306685914932567, 0.05854330553293122, 0.05767476318291552, 0.06385105308593839, 0.053368516446180084, 0.047786857247824145, 0.04696925428509953, 0.054793967741027225, 0.04741404667076274, 0.04608658015174083, 0.04527274365820897, 0.055583342495825694, 0.05039881815805077, 0.04372997922328897, 0.043191626755610134, 0.04305572877440237, 0.042483118004241864, 0.04307727908849998, 0.044040952513598165, 0.04152459627320043, 0.0558200765035332, 0.09171494992432068, 0.07706154904859948, 0.0524458524225292, 0.04954663423197008, 0.049966285306304016, 0.051269958547376863, 0.0586457623075984, 0.046478757191116875, 0.17531184404460545, 0.08823652725301909, 0.1056205020748454, 0.07732378245909419, 0.07202457007815903, 0.07619893704937016, 0.06949692818582004, 0.06898606806978327, 0.08323587972240071, 0.0678977278789697, 0.08317021473706084, 0.13644758071285015, 0.09582709719318033, 0.06345579287334448, 0.05434757026523875, 0.0643300594412029, 0.08553140228530196, 0.05517619589762117, 0.05603240755809435, 0.0540560152265971, 0.07993994445935486, 0.06025257446743543, 0.04863138787854768, 0.04662098192042214, 0.047394322888914854, 0.04624511009352757, 0.04624511009352757, 0.046086498181072216, 0.06739378030401741, 0.045588179100797196, 0.06298880737440153, 0.06544727308485503, 0.06583039504063644, 0.051919898495677685, 0.05361927856478974, 0.0567662751326155, 0.05223655468816931, 0.1377823782519176, 0.14785622657918923, 0.10167715164724103, 0.09700602287736414, 0.08741773725631484, 0.0897462849192889, 0.0863157593583657, 0.0763112695647436, 0.1323451869375317, 0.07177500486018579, 0.08361779306504263, 0.06677664259967281, 0.06677664259967281, 0.09741692427436992, 0.061742458398522576, 0.11187462785695139, 0.056573598184066674, 0.06256827016560325, 0.05517176208001367, 0.05458284228976768, 0.0579565339957623, 0.0754090012749584, 0.051449865770052734, 0.05121761670081395, 0.05899466565933371, 0.049506830885718965, 0.06232885633893972, 0.06693738977460431, 0.04773574593021166, 0.04767087500329121, 0.08374155498125102, 0.06429680910147988, 0.06170726164434648, 0.0682101116357412, 0.12086053763319242, 0.10941682030144384, 0.058690480045511695, 0.05953028574125752, 0.13504281007355934, 0.14312207448619318, 0.10259499388195421, 0.07540294882952538, 0.06346154334474284, 0.06151355076248223, 0.06094659309310769, 0.06052322588977828, 0.06490021476904864, 0.05624434246562555, 0.07381816279097145, 0.06006628046426605, 0.09141498731321115, 0.05366057800777044, 0.05925361585624144, 0.0584814068414523, 0.058111842807827364, 0.08061448186346964, 0.061896375766956634, 0.04912383002223915, 0.06344313680627298, 0.12306398367786754, 0.047864703964329486, 0.05938817626462813, 0.0471477871051001, 0.0540895031566663, 0.049343505460323484, 0.05709484329870948, 0.05016626301271141, 0.048836568601153076, 0.0563294447199434, 0.05108244817359709, 0.05693456819101905, 0.05290583160687354, 0.055976461120471374, 0.05086453145546387, 0.13654096944019836, 0.08626405145587718, 0.09446674919692066, 0.07296494855040703, 0.07440720358572059, 0.08171794335572566, 0.0663783771332282, 0.072554721648556, 0.06403968914232547, 0.059801171553340936, 0.05829362441975211, 0.06539897287400022, 0.08002545652312322, 0.056322219545242476, 0.054696415513196206, 0.05775753261425051, 0.08014828825901295, 0.05378179676948228, 0.05143712393632904, 0.05072421871783945, 0.05072421871783945, 0.053040592781550176, 0.060038076857278896, 0.04632271532461354, 0.050290749405608376, 0.045124328214241755, 0.046864376422432893, 0.04199291819022938, 0.048394427000755885, 0.039070467998635484, 0.04719248854938936, 0.0839413919965508, 0.07308361268817726, 0.06457620258031567, 0.05358120045783398, 0.04929676722733944, 0.052882845557873495, 0.1060276108475573, 0.10019163656740379, 0.07722934344499412, 0.13477950857481022, 0.06586503258985275, 0.07768786860865184, 0.059408068309925954, 0.06511785103315972, 0.05391842978463397, 0.05380966462871176, 0.053148427926385786, 0.052532508584430156, 0.05105567887772082, 0.05105567887772082, 0.05054151276729061, 0.050270862950930716, 0.06156433979827913, 0.048271882466667394, 0.047360327754139495, 0.05485183790419191, 0.048453083644993206, 0.04572696001454662, 0.047321255359649976, 0.05291675691891493, 0.04531390063775769, 0.04384047335739602, 0.06852901785196737, 0.04325698318567858, 0.04189957152573357, 0.04128501834630581, 0.23103534753623545, 0.09235414655613082, 0.07093531743863357, 0.0661486274273208, 0.059076542956184384, 0.06326453680109775, 0.05386895399530696, 0.050364632176486325, 0.04946531054791248], \"Total\": [36.0, 21.0, 21.0, 12.0, 12.0, 17.0, 15.0, 14.0, 13.0, 13.0, 10.0, 10.0, 16.0, 18.0, 8.0, 32.0, 7.0, 7.0, 8.0, 7.0, 7.0, 7.0, 7.0, 7.0, 7.0, 16.0, 6.0, 6.0, 16.0, 9.0, 65.5420989214719, 59.28000052293004, 53.52395384406, 65.8838603212595, 48.856441968755696, 47.830259136818235, 47.429026294253404, 45.99521865535375, 42.11698937120413, 40.251409182491486, 39.54067829141753, 38.554797968072045, 38.40873964375443, 38.02259853730632, 42.13257228262039, 34.878237897167516, 34.053249279582154, 33.980101198918724, 33.227665255274566, 33.317144091333, 31.843963004865614, 31.593537455650637, 30.13480655492035, 29.894003793946673, 29.738650679725744, 29.06261433898459, 29.057790994654866, 28.95684965659361, 28.594715523146192, 26.881079851557015, 29.11500832980456, 11.516325767298287, 10.575574567190818, 9.087805400061566, 9.350395558475725, 7.857119012818797, 7.77042359858419, 7.703437012111629, 7.405560450534254, 6.388561805184705, 6.374875674137936, 5.713484472310814, 5.676432527770385, 5.5385433407115565, 5.464299378610328, 5.390691940145836, 5.504979103176994, 5.275292091758782, 5.136219581128878, 5.10373200489227, 5.05698032256432, 4.996697372517083, 4.993939726523757, 4.978559295647091, 4.932703432809999, 4.9324800894296486, 4.92057650172614, 4.867509926607239, 4.835565172930253, 4.767582439790789, 4.713559576062539, 18.48901052605326, 10.237361751411928, 6.000849402486402, 9.054807604276519, 16.767111367700696, 5.476246334330702, 32.89758460024539, 10.837507876545494, 12.034809016098679, 17.115469186182015, 9.153723770880296, 6.227455962157431, 16.885045463957194, 4.401437308014509, 3.484493384032914, 3.0645557355626907, 2.9235464161428033, 2.413086645571404, 2.197886322927178, 2.210694706627377, 5.134556333002241, 1.9652286208663112, 2.0090172890135234, 2.0751762892625494, 2.420648981770973, 1.6886528533793241, 1.6875567652928436, 1.6390620788213, 1.563019202265025, 1.516286295242214, 1.5132677414585982, 1.5047471217266708, 1.492364301696418, 1.4868936359703746, 2.116853147916129, 1.4563699630232738, 1.4454920290264937, 1.4426570296247676, 1.4219859028714341, 1.418865036331035, 1.4096152594261242, 1.4112009098379739, 1.3809382001014385, 3.6397766432810075, 1.6010989478098774, 1.841157271838753, 1.726852308468326, 2.7152697309765457, 1.5563997144078285, 1.9895539162622988, 1.644294563792796, 2.1989805173136596, 1.6959112911789211, 6.276601257538398, 1.6760183425145998, 6.35115990210278, 2.398962613034188, 1.8564382196373486, 7.112713430411607, 2.098499229287219, 3.8422476872070437, 21.506197673743248, 12.341074128623491, 6.664646645481169, 5.838455482398472, 5.812289314678227, 8.4745606499013, 12.127339041670787, 6.895752117530436, 2.5786791262961546, 2.5786791262961546, 2.5718570634375224, 5.954683292076648, 7.044434480462633, 2.130306149326175, 2.0240858144142493, 1.978349033414136, 1.9142913713742784, 7.162628972866299, 7.975237145271559, 3.2280877842296603, 7.299291667233826, 7.606099381441409, 7.929713670372502, 1.8287697372819454, 1.1462842101845652, 7.572505369120334, 4.251436364383167, 0.9983173197728911, 4.878182938343498, 8.018233550804403, 7.815769293186832, 4.337567400789626, 21.14498695519756, 10.687317923572992, 10.702921697746183, 6.875806829886486, 36.6130435468017, 13.75949407198557, 13.861603191240983, 14.801096026864137, 15.902844476458382, 17.328270479307772, 0.8957088982971954, 0.8861021617443736, 0.829532022120878, 0.9811085675036602, 0.9407605746468884, 0.9181861869957914, 0.6935022951982992, 0.658428615237229, 0.7444858030231231, 0.730850955517972, 0.6610348646862874, 0.5907694795852692, 0.6381760015243721, 0.6931510001280048, 0.594548689495598, 0.5988505034627597, 0.5458807025731407, 0.553625472427258, 0.750131277458713, 0.5351311022742704, 0.6502974006644436, 1.3571981241406665, 0.5794776900266466, 0.7051352663580902, 0.5060690642701465, 0.5046602000971847, 0.5034649598219075, 0.4967392175844491, 0.8925791517816168, 0.4849869293251096, 0.9716307193731798, 0.7967726729394776, 0.7402448459175653, 0.8556090550636929, 0.6588082416500748, 0.8327041345531169, 0.946261783925912, 1.0004218849535813, 1.4050122195434278, 1.068291022929362, 0.8854647674729597, 0.9809187444935756, 0.9125844072320017, 0.6650745755812744, 0.6099496999183072, 0.5650448035008632, 0.5643254471762383, 0.5502125282250802, 0.5412637939074979, 0.703596937982191, 2.0836110469283105, 0.4888121876470036, 0.4888121876470036, 0.517264509592265, 0.47578957209069866, 0.5702556159983618, 0.48004108836494547, 0.45847722434401533, 0.48069159582853627, 0.4267732793678145, 0.4069459073649498, 0.5294863504366242, 0.4028887224826485, 0.3993014680127237, 0.4713814731559496, 0.3984617460189073, 0.39701279284875257, 0.5772755260133104, 0.5763170105335305, 0.4221675501612561, 0.4059953432853582, 0.514416072597448, 1.4872775418619018, 2.139699859377762, 1.2872124706637265, 1.2458896835010027, 0.6127176397858176, 1.278490346016093, 2.5427577136036232, 9.31728403153207, 1.5102483944957439, 16.319619993162277, 1.3970313464562423, 0.5991429492788771, 0.7151010067629919, 0.5378153003280298, 0.6797271962519543, 0.455576084389073, 0.3905252931686978, 0.38630296742943104, 0.3802597893628006, 0.4396449856828806, 0.49171189829002154, 0.36374751360681457, 0.46072427230329915, 0.3495461787495045, 0.42076214251363286, 0.3322952292852425, 0.34778198120241655, 0.35574627437736384, 0.3247058411382209, 0.3231130044601181, 0.4184665472106198, 0.4339445178775524, 0.31477406234228456, 0.3573369055725866, 0.32143234577866964, 0.31317978656045403, 0.3238456609321684, 0.4085160490890269, 0.30765248720051785, 0.30705712046781114, 0.48621556124128856, 0.4027084891439582, 0.46913115432955205, 0.6341073679446445, 0.5321888728918404, 0.3821851378657957, 0.6203712583316495, 0.5695101639313449, 0.47795366273391304, 0.6273930990473433, 0.4683827047695273, 0.883048172080648, 0.4292678160411725, 0.779342761370291, 0.4153499455214755, 0.43070743380042864, 0.38051655401337514, 0.4050286840279749, 0.47363909131823256, 0.3793987152595386, 0.3963960504868934, 0.3623039649739298, 0.38592908476122784, 0.49304740136821423, 0.3462442968574013, 0.3366936209285079, 0.3350519903185518, 0.33462451168432134, 0.3827507964911896, 0.443792112157981, 0.32843235737179544, 0.32378449748051946, 0.3582877153680181, 0.43343822046824576, 0.4850201867726003, 0.3239609160324358, 0.8511367483186589, 0.5431095445115026, 0.7894932980525039, 6.276601257538398, 0.5719298317581185, 1.3684344770898869, 0.49876900005855607, 0.9395749944370921, 0.8782023798188863, 0.7153237769730909, 0.43712987637970246, 0.49629411545711344, 0.4454083777042502, 0.42515636924344413, 0.45007094409444665, 0.43598635838572447, 0.3729213348039835, 0.371958946310567, 0.40865286822786606, 0.42144532926179795, 0.37500097012389316, 0.35053096678421686, 0.4085283935278835, 0.359666372640222, 0.33745328008942344, 0.33576381008986894, 0.3344675808751602, 0.3264631126194962, 0.7252175085676665, 0.6091744562360866, 0.37422483257376, 0.8012976140052765, 0.3103964288128681, 0.50068048019378, 0.5166926293377324, 0.4794783036485443, 0.30121974099511595, 0.3789616337394652, 0.2975651822979143, 0.36077548711445584, 1.4872775418619018, 0.39436806415788794, 0.973315442884182, 0.4749343272363465, 0.4492011268465228, 1.4507550942582685, 0.7544449000256521, 0.8352010830080949, 0.6849074916882781, 0.571928937113019, 0.5621527148903884, 0.523943959042341, 0.47327727396863184, 0.635200039410406, 0.8311405064968995, 0.5266316915907733, 0.36043515057638065, 0.3967872278618523, 0.4357690334281627, 0.46096890470901397, 0.3392536688938411, 0.3567067524178412, 0.37417536603791407, 0.34264693286871756, 0.333225492185658, 0.5366272635352836, 0.5068928067770216, 0.35682889189882827, 0.3415835800439087, 0.33899221070637814, 0.37216280135632634, 0.32370349401392234, 0.3361537462525084, 0.41365993383876226, 0.31813516160448285, 0.37261836383388836, 0.4343790259868704, 0.6319881678378916, 1.4050122195434278, 1.422691697881263, 0.8427957257579132, 1.2458896835010027, 0.8854647674729597, 0.4158142469931256, 2.5995236944399633, 1.0602951824558517, 0.6124187929440916, 0.9420473883670291, 0.42422941620560134, 0.3840313842278287, 0.44185611950504994, 0.47151940215043664, 0.5186482313974409, 0.3605548010835971, 0.41354524970041234, 0.32118482775088664, 0.34648337754830194, 0.3195097306335379, 0.40909433749955626, 0.7956021092124524, 0.31566713219368286, 0.31410983722749697, 0.3362320318019139, 0.3084318258568646, 0.3080255884889435, 0.30479073174703847, 0.30446723651851887, 0.3784672726803176, 0.3002793963591038, 0.29926612748123144, 0.32741780431629836, 0.29646853871019213, 0.31947137642783, 0.32428293978453604, 0.39008889299810096, 0.7544449000256521, 0.5153722771003643, 0.5291432325498069, 0.45753620778785015, 0.6341452965089998, 0.4348484871847854, 0.6111154563502698, 1.0606979426198497, 0.39135818603738365, 0.39353080396993195, 0.4270066831878844, 3.7400688029227895, 0.5933424403927708, 0.5304168368831225, 0.5632312363025603, 0.45729166730771365, 0.4552710957460041, 0.44253135307147934, 0.454369029260693, 0.3458036164691078, 0.38217804580719894, 0.32341360055392837, 0.31742861649934456, 0.3168489356094779, 0.3141592693513183, 0.3092826390693367, 0.3092519555343644, 0.5275611403260964, 0.973315442884182, 0.339573464485609, 0.31105778384556915, 0.30018717993176053, 0.29721244816497483, 0.30165391376113476, 0.29351299125998326, 0.2931646391993906, 0.28974648225491784, 0.6161366119753271, 0.3145193324279364, 0.37105810698527675, 0.28442877168839875, 0.3085831198537048, 0.47219728939144584, 0.6815993141698815, 0.5287434992779007, 0.6494792001962186, 0.4120314285295303, 0.5843175912168006, 0.6383728917547069, 0.8079227683658031, 0.45032706572023296, 0.3797805043917514, 0.3438553615311414, 0.41689899067864994, 0.41694352177497024, 0.341311765466437, 0.3172922632580624, 0.3162893304953389, 0.3072132568984867, 0.3023352254084729, 0.2992178659409998, 0.2990506071311327, 0.2974090725009446, 0.2948902662942421, 0.3751708748066201, 0.2911692943755587, 0.28760805414898316, 0.2857535876549943, 0.28542413374708053, 0.3002918410553617, 0.28191336554788593, 0.2788831889551809, 0.2859645825268197, 0.2776518344320432, 0.3043560911628848, 0.35648089994423293, 0.28865566276947713, 0.3059092487891869, 0.3992558705227843, 0.30221393652538914, 0.3695439056834546, 0.4671555723822088, 0.5463159747772145, 0.42118304569386616, 0.588310125511687, 0.8611380181613295, 0.4211586991392146, 0.8711144613099892, 0.4727917769856331, 1.1630260346598535, 0.8782023798188863, 0.572766210031197, 0.327738172411443, 0.32587636502738376, 0.30409700251443766, 0.3119769954927898, 0.2924658380590962, 0.29171907351938453, 0.29039176436189457, 0.28844928059269487, 0.29588134055070453, 0.28668521153349924, 0.31072205304083655, 0.28254289281209133, 0.28043145970040445, 0.2768818580067321, 0.2756238077224882, 0.2747943946685503, 0.27346958447141545, 0.27303635055606823, 0.2723995982487732, 0.272657775924456, 0.2699401122000539, 0.27493864207939717, 0.26292374605182767, 0.30929838211060606, 0.28859025448645886, 0.26065320956999843, 0.2601176969390023, 0.28523909493634736, 0.4549151284423177, 0.7086974648565931, 0.3655873865744783, 0.3967144884632025, 0.46343593716590936, 0.3175384940019157, 0.6377673309462898, 0.4023454958279121, 0.49094273111622677, 0.6161366119753271, 0.7302755487707294, 0.5724157877369658, 0.5992273110656874, 0.5554353655462202, 0.6144530478805484, 0.4200802942714815, 0.40117308428332454, 0.3352316517941039, 0.3028665343439417, 0.29891687112762627, 0.2968694357733194, 0.30191828762828743, 0.35518594652836727, 0.3129763438579013, 0.2873165815151141, 0.33195886709788924, 0.27960587637015527, 0.33034615842758147, 0.3910635432141968, 0.2750943888841141, 0.2788501056627762, 0.35012873758428553, 0.2691396113537358, 0.26879579451312846, 0.2680396697530826, 0.26198180198041926, 0.2984109206033701, 0.28985293828953307, 0.26079550239038257, 0.2879495076242171, 0.25875339291840405, 0.3868127260903392, 0.6319881678378916, 0.47539583186402373, 0.5868409973208525, 2.8918803811576903, 6.276601257538398, 0.5305372509679621, 0.33064614306042905, 0.3583738629798376, 0.30075073682469333, 0.28912764006427444, 0.3083018988953665, 0.2860779894090879, 0.703076789495753, 0.27838179309143657, 1.092654013117115, 0.40726106341743173, 0.27589262390455677, 0.2750486853619999, 0.30904008871111904, 0.3853158282306576, 0.2698774091208708, 0.2694090084328745, 0.32384543477243777, 0.267845353524748, 0.29501470577143496, 0.2721645613158561, 0.2953119070752029, 0.2693184755172745, 0.32871899365380614, 0.25777842397739215, 0.2592482726624398, 0.3210746555795363, 0.2666549490591705, 0.25537763864111185, 0.2547767217133634, 0.32698324414122953, 0.35364670141709453, 0.2933772968182955, 0.7333635405519495, 0.36615086813637565, 0.9395749944370921, 0.4281200803035107, 0.47539583186402373, 0.33454556820607934, 0.2980854142107557, 0.29721227550418455, 0.294459515844418, 0.3027657315114052, 0.3187339417002529, 0.28401132851936584, 0.28118200211534183, 0.30841647943442185, 0.45753620778785015, 0.27681966022609444, 0.275500070935817, 0.2748238719259207, 0.2992234510040578, 0.2728956258871865, 0.31495764783890245, 0.2703352866974701, 0.2821721642571606, 0.2700882231901818, 0.27660048422396283, 0.34049283179776396, 0.2652508154161813, 0.2649511364720338, 0.2639615121883756, 0.2637690102571187, 0.4348484871847854, 0.26282498764460466, 0.2681991234846663, 0.261895284452501, 0.3169234670977409, 0.43045572677440047, 0.5256505745556741, 0.49122896110439757, 0.635200039410406, 0.3267245560647776, 0.6161366119753271, 0.8134749186780815, 0.3414973313411934, 0.49988103807391, 0.29457381821866074, 0.286058391771138, 0.2820096214374021, 0.28164566526568086, 0.27968500189301715, 0.27836492476290736, 0.31584415171407687, 0.2887641691718322, 0.27268115760120776, 0.2717711729810943, 0.27027297800044575, 0.2697852896754397, 0.26920736959082525, 0.27916374965526436, 0.2668948131338725, 0.26234825422510266, 0.3008470327072779, 0.28233192250369427, 0.35993941622685294, 0.29238574660667305, 0.2547239459022427, 0.30701865608924994, 0.2794444728330636, 0.2672116073300701, 0.2655718031708954, 0.30895280787973717, 0.4763820240335483, 0.25159596918528204, 0.25852107646745254, 0.50068048019378, 0.4526858375251733, 0.49876900005855607, 0.44757041843244644, 0.8224213554008902, 0.36112081767120385, 0.3558964014060356, 0.35786127885635693, 0.3360680221459222, 0.41468269069001895, 0.3170728025773729, 0.2878224491092189, 0.2833795320121428, 0.27905467077011725, 0.28833609191560106, 0.35072713825400087, 0.27530161235910566, 0.2752889988669834, 0.3469761343957577, 0.2707514910105398, 0.3269315738828396, 0.26472012557223795, 0.26472012557223795, 0.26383070278030707, 0.26368455715897765, 0.26368455715897765, 0.2806504238993293, 0.28937861734233356, 0.27287117553821233, 0.26026151157882005, 0.25948473414683787, 0.2593515727890311, 0.2709637395450404, 0.25767746847850226, 0.2575073495757306, 0.25664806642933385, 0.25588096567715596, 0.3333993534345728, 0.5452151464424885, 0.6117398916353222, 0.6895637637499926, 0.3666060875157369, 1.068291022929362, 0.4520336057639906, 0.30910351153455995, 0.5021714292735295, 0.5064326753498061, 0.35880981528278466, 0.3237826510287829, 0.3115152942443016, 0.32413514534539223, 0.32413514534539223, 0.2833679542455059, 0.2824877990356404, 0.28095178835769324, 0.2787986892590932, 0.36358867388176475, 0.27582439997536984, 0.27696683075191003, 0.30870029489373524, 0.2828826340868997, 0.2893982714601385, 0.3006854370541129, 0.26923552866059247, 0.2740722646770177, 0.26453196395790535, 0.29691733484171723, 0.26132676913108366, 0.2610686761785345, 0.3042522520639695, 0.5800521137689861, 0.3715497676705447, 0.2678607926356035, 0.3060144257356508, 0.34534371289142857, 0.26534279287860757, 0.2677125548775009, 0.27709942069598203, 0.5618134640849717, 0.6308027921965847, 0.5817558462711047, 0.48176386916931285, 0.40078208841949264, 1.282422350973504, 0.42196058264729297, 0.48659634870492874, 0.528400903946871, 0.3271468486512683, 0.3247738588978818, 0.34983330259215706, 0.3048614967530039, 0.3104692525995466, 0.29667875692500645, 0.5390290663170377, 0.43225895883803395, 0.290658407366493, 0.28742455563142344, 0.2743564007666902, 0.4238988344711186, 0.2814431701214442, 0.31798001783093294, 0.2613136074152931, 0.2591069529501425, 0.4526858375251733, 0.2589781260935313, 0.2659493434789396, 0.38814799835842173, 0.2568781877517968, 0.2553505507366089, 0.3777395183078138, 0.2740576059601243, 0.34564931163048557, 0.25238602239824803, 0.27415018386368, 0.2788018295153688, 0.2504921060140335, 0.3392845223407215, 0.588547318964185, 0.3234666057380092, 0.6308027921965847, 0.47219728939144584, 0.7120586581872204, 0.32890245659507267, 1.3571981241406665, 0.5039879179079594, 0.5008814958064246, 0.3447164209416103, 0.2949709220680471, 0.3167292158851222, 0.2948788886314718, 0.2811323743679714, 0.3292585683612425, 0.3438289075740635, 0.28176210893204606, 0.2758583767733163, 0.2643796026182548, 0.2696133816922063, 0.2595875336559439, 0.2626671937059723, 0.29506657927581964, 0.2544127446574924, 0.24883108537254892, 0.24801348244631083, 0.2907499242548364, 0.252979937619595, 0.24713080827622533, 0.2463169718530963, 0.3053113059099952, 0.28081841984468564, 0.244774207347653, 0.24423585489798555, 0.2440999568980154, 0.24352734616525218, 0.24766420757745247, 0.2566179069270499, 0.24256882439716354, 0.3323844354516172, 0.6628351093667094, 0.5366272635352836, 0.34795684799613663, 0.3161306639385396, 0.3316109832294933, 0.4045548664225546, 0.7406114375899274, 1.4872775418619018, 0.4222319668125819, 0.29391618868402664, 0.3781341074647378, 0.2836157964821376, 0.2730715363122468, 0.29407298671548293, 0.2705438942989044, 0.270033034183067, 0.32982184059207365, 0.27365423897176805, 0.3428467791100601, 0.5682096305950313, 0.4042604366851173, 0.2712551017680524, 0.25539453643434185, 0.3033972521497783, 0.4054399203108519, 0.2619122556416868, 0.26826766317974154, 0.2692760063612965, 0.3992558705227843, 0.3053721749842222, 0.24967835403087366, 0.2476679480357306, 0.2530291059892865, 0.24729207621143554, 0.24729207621143554, 0.24713346430112135, 0.3638788831340175, 0.2466351452154842, 0.3415474294822842, 0.36940889613126515, 0.40040899329154067, 0.33121040267621693, 0.42375457330083066, 0.6117398916353222, 0.43669014910211823, 0.3388670007747199, 0.3705052236334229, 0.30730734528604586, 0.2980906453999937, 0.2885023597822578, 0.3001363192164257, 0.2953109195238643, 0.2773958920874135, 0.49122896110439757, 0.2728596273824524, 0.3306791376727178, 0.2678612651296206, 0.2678612651296206, 0.3967144884632025, 0.26282708092370755, 0.47838577094566354, 0.25765822070610733, 0.2897367971996311, 0.25625638460344585, 0.2556674648111039, 0.274788729902567, 0.3583786483144115, 0.2525344882919709, 0.2523022392227446, 0.2910266896952277, 0.250591453409622, 0.31722326397417955, 0.347554988315817, 0.24882036856392514, 0.24875549752549891, 0.45936744051847145, 0.3497010265411244, 0.346609393578191, 0.4029424524322974, 0.9716307193731798, 0.8925791517816168, 0.34791549223720414, 0.6250663267922709, 0.3481155605279263, 0.41247258781805074, 0.3611880390820494, 0.29291496937362393, 0.2646837738172214, 0.2631910661212751, 0.2621688235666282, 0.2617454563654639, 0.2895848625945686, 0.25746657293782615, 0.3380956312648709, 0.27799038501300366, 0.4271095490121318, 0.25488280848049844, 0.28317576005871914, 0.2803616071128603, 0.28900672977971653, 0.40507397633313397, 0.31108902867231253, 0.25034606051506997, 0.32338960373517084, 0.6393905280378571, 0.24908693443722832, 0.31270970176124485, 0.24837001760413036, 0.2898166716359252, 0.26839104965642296, 0.31447567009290606, 0.27917780455505653, 0.2722966293123775, 0.373932198331882, 0.3122092671512954, 0.6494792001962186, 0.4374981841767423, 0.9789363763984702, 0.5186482313974409, 0.33777247632995394, 0.3234052875537004, 0.3553199842447249, 0.28727048916324616, 0.2977182665988495, 0.32920930246717545, 0.2676098840178643, 0.2991667577726905, 0.26527119607188937, 0.26103267843713657, 0.2595251313057794, 0.29931818834502527, 0.3684655989175138, 0.260382320484117, 0.2559279224233355, 0.2705985652728748, 0.3766190411321401, 0.2550133036544617, 0.25266863088628133, 0.2519557256128369, 0.2519557256128369, 0.26828976152242656, 0.314696332235121, 0.24755422221098664, 0.27220161308952223, 0.24635583510032838, 0.26226486311769354, 0.24322442508324427, 0.2900283622473007, 0.24030197488327024, 0.2958905326673159, 0.6377673309462898, 0.7406114375899274, 0.5756473253024127, 0.43003924611518024, 0.4168278765816683, 1.170116252030998, 0.3072633856203841, 0.315238041616397, 0.28243078202697347, 0.5187566849953589, 0.2671008073611313, 0.3336270010488107, 0.2606438430821376, 0.3008130420003222, 0.2551542045550534, 0.25504543939981916, 0.2543842027550812, 0.2537682833681138, 0.25229145841765166, 0.25229145841765166, 0.2517772876017096, 0.25150663773618664, 0.3103076467622224, 0.24950765723932214, 0.2485961025284289, 0.2879702512733284, 0.25810554731469726, 0.24696273479287653, 0.25699885114680715, 0.2877092433141252, 0.24654967541134673, 0.24507624812901005, 0.39048214476588955, 0.25073692092866967, 0.24313534643158743, 0.24252079311978875, 1.3571981241406665, 0.6377673309462898, 0.5246694424509623, 0.4811764606454831, 0.41595629675462215, 0.5305372509679621, 0.36749417554143676, 0.3458118846102979, 0.6637272407007205], \"Category\": [\"Default\", \"Default\", \"Default\", \"Default\", \"Default\", \"Default\", \"Default\", \"Default\", \"Default\", \"Default\", \"Default\", \"Default\", \"Default\", \"Default\", \"Default\", \"Default\", \"Default\", \"Default\", \"Default\", \"Default\", \"Default\", \"Default\", \"Default\", \"Default\", \"Default\", \"Default\", \"Default\", \"Default\", \"Default\", \"Default\", \"Topic1\", \"Topic1\", \"Topic1\", \"Topic1\", \"Topic1\", \"Topic1\", \"Topic1\", \"Topic1\", \"Topic1\", \"Topic1\", \"Topic1\", \"Topic1\", \"Topic1\", \"Topic1\", \"Topic1\", \"Topic1\", \"Topic1\", \"Topic1\", \"Topic1\", \"Topic1\", \"Topic1\", \"Topic1\", \"Topic1\", \"Topic1\", \"Topic1\", \"Topic1\", \"Topic1\", \"Topic1\", \"Topic1\", \"Topic1\", \"Topic1\", \"Topic2\", \"Topic2\", \"Topic2\", \"Topic2\", \"Topic2\", \"Topic2\", \"Topic2\", \"Topic2\", \"Topic2\", \"Topic2\", \"Topic2\", \"Topic2\", \"Topic2\", \"Topic2\", \"Topic2\", \"Topic2\", \"Topic2\", \"Topic2\", \"Topic2\", \"Topic2\", \"Topic2\", \"Topic2\", \"Topic2\", \"Topic2\", \"Topic2\", \"Topic2\", \"Topic2\", \"Topic2\", \"Topic2\", \"Topic2\", \"Topic2\", \"Topic2\", \"Topic2\", \"Topic2\", \"Topic2\", \"Topic2\", \"Topic2\", \"Topic2\", \"Topic2\", \"Topic2\", \"Topic2\", \"Topic2\", \"Topic2\", \"Topic3\", \"Topic3\", \"Topic3\", \"Topic3\", \"Topic3\", \"Topic3\", \"Topic3\", \"Topic3\", \"Topic3\", \"Topic3\", \"Topic3\", \"Topic3\", \"Topic3\", \"Topic3\", \"Topic3\", \"Topic3\", \"Topic3\", \"Topic3\", \"Topic3\", \"Topic3\", \"Topic3\", \"Topic3\", \"Topic3\", \"Topic3\", \"Topic3\", \"Topic3\", \"Topic3\", \"Topic3\", \"Topic3\", \"Topic3\", \"Topic3\", \"Topic3\", \"Topic3\", \"Topic3\", \"Topic3\", \"Topic3\", \"Topic3\", \"Topic3\", \"Topic3\", \"Topic3\", \"Topic3\", \"Topic3\", \"Topic3\", \"Topic3\", \"Topic3\", \"Topic3\", \"Topic3\", \"Topic3\", \"Topic4\", \"Topic4\", \"Topic4\", \"Topic4\", \"Topic4\", \"Topic4\", \"Topic4\", \"Topic4\", \"Topic4\", \"Topic4\", \"Topic4\", \"Topic4\", \"Topic4\", \"Topic4\", \"Topic4\", \"Topic4\", \"Topic4\", \"Topic4\", \"Topic4\", \"Topic4\", \"Topic4\", \"Topic4\", \"Topic4\", \"Topic4\", \"Topic4\", \"Topic4\", \"Topic4\", \"Topic4\", \"Topic4\", \"Topic4\", \"Topic4\", \"Topic4\", \"Topic4\", \"Topic4\", \"Topic4\", \"Topic4\", \"Topic4\", \"Topic4\", \"Topic4\", \"Topic4\", \"Topic4\", \"Topic4\", \"Topic5\", \"Topic5\", \"Topic5\", \"Topic5\", \"Topic5\", \"Topic5\", \"Topic5\", \"Topic5\", \"Topic5\", \"Topic5\", \"Topic5\", \"Topic5\", \"Topic5\", \"Topic5\", \"Topic5\", \"Topic5\", \"Topic5\", \"Topic5\", \"Topic5\", \"Topic5\", \"Topic5\", \"Topic5\", \"Topic5\", \"Topic5\", \"Topic5\", \"Topic5\", \"Topic5\", \"Topic5\", \"Topic5\", \"Topic5\", \"Topic5\", \"Topic5\", \"Topic5\", \"Topic5\", \"Topic5\", \"Topic5\", \"Topic5\", \"Topic5\", \"Topic5\", \"Topic5\", \"Topic5\", \"Topic6\", \"Topic6\", \"Topic6\", \"Topic6\", \"Topic6\", \"Topic6\", \"Topic6\", \"Topic6\", \"Topic6\", \"Topic6\", \"Topic6\", \"Topic6\", \"Topic6\", \"Topic6\", \"Topic6\", \"Topic6\", \"Topic6\", \"Topic6\", \"Topic6\", \"Topic6\", \"Topic6\", \"Topic6\", \"Topic6\", \"Topic6\", \"Topic6\", \"Topic6\", \"Topic6\", \"Topic6\", \"Topic6\", \"Topic6\", \"Topic6\", \"Topic6\", \"Topic6\", \"Topic6\", \"Topic6\", \"Topic6\", \"Topic6\", \"Topic6\", \"Topic6\", \"Topic6\", \"Topic6\", \"Topic7\", \"Topic7\", \"Topic7\", \"Topic7\", \"Topic7\", \"Topic7\", \"Topic7\", \"Topic7\", \"Topic7\", \"Topic7\", \"Topic7\", \"Topic7\", \"Topic7\", \"Topic7\", \"Topic7\", \"Topic7\", \"Topic7\", \"Topic7\", \"Topic7\", \"Topic7\", \"Topic7\", \"Topic7\", \"Topic7\", \"Topic7\", \"Topic7\", \"Topic7\", \"Topic7\", \"Topic7\", \"Topic7\", \"Topic7\", \"Topic7\", \"Topic7\", \"Topic7\", \"Topic7\", \"Topic7\", \"Topic7\", \"Topic8\", \"Topic8\", \"Topic8\", \"Topic8\", \"Topic8\", \"Topic8\", \"Topic8\", \"Topic8\", \"Topic8\", \"Topic8\", \"Topic8\", \"Topic8\", \"Topic8\", \"Topic8\", \"Topic8\", \"Topic8\", \"Topic8\", \"Topic8\", \"Topic8\", \"Topic8\", \"Topic8\", \"Topic8\", \"Topic8\", \"Topic8\", \"Topic8\", \"Topic8\", \"Topic8\", \"Topic8\", \"Topic8\", \"Topic8\", \"Topic8\", \"Topic8\", \"Topic8\", \"Topic8\", \"Topic8\", \"Topic8\", \"Topic8\", \"Topic8\", \"Topic8\", \"Topic9\", \"Topic9\", \"Topic9\", \"Topic9\", \"Topic9\", \"Topic9\", \"Topic9\", \"Topic9\", \"Topic9\", \"Topic9\", \"Topic9\", \"Topic9\", \"Topic9\", \"Topic9\", \"Topic9\", \"Topic9\", \"Topic9\", \"Topic9\", \"Topic9\", \"Topic9\", \"Topic9\", \"Topic9\", \"Topic9\", \"Topic9\", \"Topic9\", \"Topic9\", \"Topic9\", \"Topic9\", \"Topic9\", \"Topic9\", \"Topic9\", \"Topic9\", \"Topic9\", \"Topic9\", \"Topic9\", \"Topic9\", \"Topic9\", \"Topic9\", \"Topic10\", \"Topic10\", \"Topic10\", \"Topic10\", \"Topic10\", \"Topic10\", \"Topic10\", \"Topic10\", \"Topic10\", \"Topic10\", \"Topic10\", \"Topic10\", \"Topic10\", \"Topic10\", \"Topic10\", \"Topic10\", \"Topic10\", \"Topic10\", \"Topic10\", \"Topic10\", \"Topic10\", \"Topic10\", \"Topic10\", \"Topic10\", \"Topic10\", \"Topic10\", \"Topic10\", \"Topic10\", \"Topic10\", \"Topic10\", \"Topic10\", \"Topic10\", \"Topic10\", \"Topic10\", \"Topic10\", \"Topic10\", \"Topic10\", \"Topic10\", \"Topic10\", \"Topic11\", \"Topic11\", \"Topic11\", \"Topic11\", \"Topic11\", \"Topic11\", \"Topic11\", \"Topic11\", \"Topic11\", \"Topic11\", \"Topic11\", \"Topic11\", \"Topic11\", \"Topic11\", \"Topic11\", \"Topic11\", \"Topic11\", \"Topic11\", \"Topic11\", \"Topic11\", \"Topic11\", \"Topic11\", \"Topic11\", \"Topic11\", \"Topic11\", \"Topic11\", \"Topic11\", \"Topic11\", \"Topic11\", \"Topic11\", \"Topic11\", \"Topic11\", \"Topic11\", \"Topic11\", \"Topic11\", \"Topic11\", \"Topic11\", \"Topic11\", \"Topic11\", \"Topic11\", \"Topic11\", \"Topic12\", \"Topic12\", \"Topic12\", \"Topic12\", \"Topic12\", \"Topic12\", \"Topic12\", \"Topic12\", \"Topic12\", \"Topic12\", \"Topic12\", \"Topic12\", \"Topic12\", \"Topic12\", \"Topic12\", \"Topic12\", \"Topic12\", \"Topic12\", \"Topic12\", \"Topic12\", \"Topic12\", \"Topic12\", \"Topic12\", \"Topic12\", \"Topic12\", \"Topic12\", \"Topic12\", \"Topic12\", \"Topic12\", \"Topic12\", \"Topic12\", \"Topic12\", \"Topic12\", \"Topic12\", \"Topic12\", \"Topic12\", \"Topic12\", \"Topic12\", \"Topic13\", \"Topic13\", \"Topic13\", \"Topic13\", \"Topic13\", \"Topic13\", \"Topic13\", \"Topic13\", \"Topic13\", \"Topic13\", \"Topic13\", \"Topic13\", \"Topic13\", \"Topic13\", \"Topic13\", \"Topic13\", \"Topic13\", \"Topic13\", \"Topic13\", \"Topic13\", \"Topic13\", \"Topic13\", \"Topic13\", \"Topic13\", \"Topic13\", \"Topic13\", \"Topic13\", \"Topic13\", \"Topic13\", \"Topic13\", \"Topic13\", \"Topic13\", \"Topic13\", \"Topic13\", \"Topic13\", \"Topic13\", \"Topic13\", \"Topic13\", \"Topic13\", \"Topic13\", \"Topic14\", \"Topic14\", \"Topic14\", \"Topic14\", \"Topic14\", \"Topic14\", \"Topic14\", \"Topic14\", \"Topic14\", \"Topic14\", \"Topic14\", \"Topic14\", \"Topic14\", \"Topic14\", \"Topic14\", \"Topic14\", \"Topic14\", \"Topic14\", \"Topic14\", \"Topic14\", \"Topic14\", \"Topic14\", \"Topic14\", \"Topic14\", \"Topic14\", \"Topic14\", \"Topic14\", \"Topic14\", \"Topic14\", \"Topic14\", \"Topic14\", \"Topic14\", \"Topic14\", \"Topic14\", \"Topic14\", \"Topic14\", \"Topic14\", \"Topic14\", \"Topic14\", \"Topic14\", \"Topic14\", \"Topic15\", \"Topic15\", \"Topic15\", \"Topic15\", \"Topic15\", \"Topic15\", \"Topic15\", \"Topic15\", \"Topic15\", \"Topic15\", \"Topic15\", \"Topic15\", \"Topic15\", \"Topic15\", \"Topic15\", \"Topic15\", \"Topic15\", \"Topic15\", \"Topic15\", \"Topic15\", \"Topic15\", \"Topic15\", \"Topic15\", \"Topic15\", \"Topic15\", \"Topic15\", \"Topic15\", \"Topic15\", \"Topic15\", \"Topic15\", \"Topic15\", \"Topic15\", \"Topic15\", \"Topic15\", \"Topic15\", \"Topic15\", \"Topic15\", \"Topic16\", \"Topic16\", \"Topic16\", \"Topic16\", \"Topic16\", \"Topic16\", \"Topic16\", \"Topic16\", \"Topic16\", \"Topic16\", \"Topic16\", \"Topic16\", \"Topic16\", \"Topic16\", \"Topic16\", \"Topic16\", \"Topic16\", \"Topic16\", \"Topic16\", \"Topic16\", \"Topic16\", \"Topic16\", \"Topic16\", \"Topic16\", \"Topic16\", \"Topic16\", \"Topic16\", \"Topic16\", \"Topic16\", \"Topic16\", \"Topic16\", \"Topic16\", \"Topic16\", \"Topic16\", \"Topic16\", \"Topic16\", \"Topic16\", \"Topic17\", \"Topic17\", \"Topic17\", \"Topic17\", \"Topic17\", \"Topic17\", \"Topic17\", \"Topic17\", \"Topic17\", \"Topic17\", \"Topic17\", \"Topic17\", \"Topic17\", \"Topic17\", \"Topic17\", \"Topic17\", \"Topic17\", \"Topic17\", \"Topic17\", \"Topic17\", \"Topic17\", \"Topic17\", \"Topic17\", \"Topic17\", \"Topic17\", \"Topic17\", \"Topic17\", \"Topic17\", \"Topic17\", \"Topic17\", \"Topic17\", \"Topic17\", \"Topic17\", \"Topic17\", \"Topic17\", \"Topic17\", \"Topic17\", \"Topic17\", \"Topic18\", \"Topic18\", \"Topic18\", \"Topic18\", \"Topic18\", \"Topic18\", \"Topic18\", \"Topic18\", \"Topic18\", \"Topic18\", \"Topic18\", \"Topic18\", \"Topic18\", \"Topic18\", \"Topic18\", \"Topic18\", \"Topic18\", \"Topic18\", \"Topic18\", \"Topic18\", \"Topic18\", \"Topic18\", \"Topic18\", \"Topic18\", \"Topic18\", \"Topic18\", \"Topic18\", \"Topic18\", \"Topic18\", \"Topic18\", \"Topic18\", \"Topic18\", \"Topic18\", \"Topic18\", \"Topic18\", \"Topic18\", \"Topic18\", \"Topic19\", \"Topic19\", \"Topic19\", \"Topic19\", \"Topic19\", \"Topic19\", \"Topic19\", \"Topic19\", \"Topic19\", \"Topic19\", \"Topic19\", \"Topic19\", \"Topic19\", \"Topic19\", \"Topic19\", \"Topic19\", \"Topic19\", \"Topic19\", \"Topic19\", \"Topic19\", \"Topic19\", \"Topic19\", \"Topic19\", \"Topic19\", \"Topic19\", \"Topic19\", \"Topic19\", \"Topic19\", \"Topic19\", \"Topic19\", \"Topic19\", \"Topic19\", \"Topic19\", \"Topic19\", \"Topic19\", \"Topic19\", \"Topic19\", \"Topic19\", \"Topic19\", \"Topic19\", \"Topic20\", \"Topic20\", \"Topic20\", \"Topic20\", \"Topic20\", \"Topic20\", \"Topic20\", \"Topic20\", \"Topic20\", \"Topic20\", \"Topic20\", \"Topic20\", \"Topic20\", \"Topic20\", \"Topic20\", \"Topic20\", \"Topic20\", \"Topic20\", \"Topic20\", \"Topic20\", \"Topic20\", \"Topic20\", \"Topic20\", \"Topic20\", \"Topic20\", \"Topic20\", \"Topic20\", \"Topic20\", \"Topic20\", \"Topic20\", \"Topic20\", \"Topic20\", \"Topic20\", \"Topic20\", \"Topic20\", \"Topic20\", \"Topic20\", \"Topic20\", \"Topic20\", \"Topic21\", \"Topic21\", \"Topic21\", \"Topic21\", \"Topic21\", \"Topic21\", \"Topic21\", \"Topic21\", \"Topic21\", \"Topic21\", \"Topic21\", \"Topic21\", \"Topic21\", \"Topic21\", \"Topic21\", \"Topic21\", \"Topic21\", \"Topic21\", \"Topic21\", \"Topic21\", \"Topic21\", \"Topic21\", \"Topic21\", \"Topic21\", \"Topic21\", \"Topic21\", \"Topic21\", \"Topic21\", \"Topic21\", \"Topic21\", \"Topic21\", \"Topic21\", \"Topic21\", \"Topic21\", \"Topic21\", \"Topic21\", \"Topic21\", \"Topic21\", \"Topic21\", \"Topic21\", \"Topic22\", \"Topic22\", \"Topic22\", \"Topic22\", \"Topic22\", \"Topic22\", \"Topic22\", \"Topic22\", \"Topic22\", \"Topic22\", \"Topic22\", \"Topic22\", \"Topic22\", \"Topic22\", \"Topic22\", \"Topic22\", \"Topic22\", \"Topic22\", \"Topic22\", \"Topic22\", \"Topic22\", \"Topic22\", \"Topic22\", \"Topic22\", \"Topic22\", \"Topic22\", \"Topic22\", \"Topic22\", \"Topic22\", \"Topic22\", \"Topic22\", \"Topic22\", \"Topic22\", \"Topic22\", \"Topic22\", \"Topic22\", \"Topic22\", \"Topic22\", \"Topic22\", \"Topic23\", \"Topic23\", \"Topic23\", \"Topic23\", \"Topic23\", \"Topic23\", \"Topic23\", \"Topic23\", \"Topic23\", \"Topic23\", \"Topic23\", \"Topic23\", \"Topic23\", \"Topic23\", \"Topic23\", \"Topic23\", \"Topic23\", \"Topic23\", \"Topic23\", \"Topic23\", \"Topic23\", \"Topic23\", \"Topic23\", \"Topic23\", \"Topic23\", \"Topic23\", \"Topic23\", \"Topic23\", \"Topic23\", \"Topic23\", \"Topic23\", \"Topic23\", \"Topic23\", \"Topic23\", \"Topic23\", \"Topic23\", \"Topic23\", \"Topic24\", \"Topic24\", \"Topic24\", \"Topic24\", \"Topic24\", \"Topic24\", \"Topic24\", \"Topic24\", \"Topic24\", \"Topic24\", \"Topic24\", \"Topic24\", \"Topic24\", \"Topic24\", \"Topic24\", \"Topic24\", \"Topic24\", \"Topic24\", \"Topic24\", \"Topic24\", \"Topic24\", \"Topic24\", \"Topic24\", \"Topic24\", \"Topic24\", \"Topic24\", \"Topic24\", \"Topic24\", \"Topic24\", \"Topic24\", \"Topic24\", \"Topic24\", \"Topic24\", \"Topic24\", \"Topic24\", \"Topic24\", \"Topic24\", \"Topic24\", \"Topic25\", \"Topic25\", \"Topic25\", \"Topic25\", \"Topic25\", \"Topic25\", \"Topic25\", \"Topic25\", \"Topic25\", \"Topic25\", \"Topic25\", \"Topic25\", \"Topic25\", \"Topic25\", \"Topic25\", \"Topic25\", \"Topic25\", \"Topic25\", \"Topic25\", \"Topic25\", \"Topic25\", \"Topic25\", \"Topic25\", \"Topic25\", \"Topic25\", \"Topic25\", \"Topic25\", \"Topic25\", \"Topic25\", \"Topic25\", \"Topic25\", \"Topic25\", \"Topic25\", \"Topic25\", \"Topic25\", \"Topic25\", \"Topic26\", \"Topic26\", \"Topic26\", \"Topic26\", \"Topic26\", \"Topic26\", \"Topic26\", \"Topic26\", \"Topic26\", \"Topic26\", \"Topic26\", \"Topic26\", \"Topic26\", \"Topic26\", \"Topic26\", \"Topic26\", \"Topic26\", \"Topic26\", \"Topic26\", \"Topic26\", \"Topic26\", \"Topic26\", \"Topic26\", \"Topic26\", \"Topic26\", \"Topic26\", \"Topic26\", \"Topic26\", \"Topic26\", \"Topic26\", \"Topic26\", \"Topic26\", \"Topic26\", \"Topic26\", \"Topic26\", \"Topic26\", \"Topic26\", \"Topic27\", \"Topic27\", \"Topic27\", \"Topic27\", \"Topic27\", \"Topic27\", \"Topic27\", \"Topic27\", \"Topic27\", \"Topic27\", \"Topic27\", \"Topic27\", \"Topic27\", \"Topic27\", \"Topic27\", \"Topic27\", \"Topic27\", \"Topic27\", \"Topic27\", \"Topic27\", \"Topic27\", \"Topic27\", \"Topic27\", \"Topic27\", \"Topic27\", \"Topic27\", \"Topic27\", \"Topic27\", \"Topic27\", \"Topic27\", \"Topic27\", \"Topic27\", \"Topic27\", \"Topic27\", \"Topic27\", \"Topic27\", \"Topic27\", \"Topic27\", \"Topic27\"], \"logprob\": [30.0, 29.0, 28.0, 27.0, 26.0, 25.0, 24.0, 23.0, 22.0, 21.0, 20.0, 19.0, 18.0, 17.0, 16.0, 15.0, 14.0, 13.0, 12.0, 11.0, 10.0, 9.0, 8.0, 7.0, 6.0, 5.0, 4.0, 3.0, 2.0, 1.0, -5.8197, -5.9205, -6.0229, -5.8154, -6.1144, -6.1357, -6.1442, -6.175, -6.2634, -6.3089, -6.3268, -6.3522, -6.356, -6.3661, -6.2636, -6.4529, -6.4769, -6.4791, -6.5016, -6.499, -6.5444, -6.5523, -6.5998, -6.6079, -6.6131, -6.6363, -6.6364, -6.6399, -6.6526, -6.7148, -6.6444, -6.0744, -6.161, -6.3155, -6.2894, -6.4642, -6.4755, -6.4844, -6.5248, -6.6765, -6.6787, -6.7916, -6.7983, -6.8237, -6.8377, -6.8517, -6.8312, -6.8741, -6.9018, -6.9084, -6.9179, -6.9304, -6.9309, -6.9341, -6.9437, -6.9438, -6.9463, -6.9576, -6.9644, -6.9791, -6.991, -5.6881, -6.2818, -6.7733, -6.4352, -6.0302, -6.8817, -5.9503, -6.5443, -6.4929, -6.3594, -6.6597, -6.8386, -6.6283, -6.0353, -6.2808, -6.4171, -6.4763, -6.674, -6.7816, -6.7771, -5.9382, -6.8988, -6.8834, -6.8545, -6.7039, -7.0681, -7.0688, -7.1017, -7.1555, -7.1901, -7.1924, -7.1989, -7.2083, -7.2125, -6.8618, -7.2363, -7.2449, -7.2472, -7.2638, -7.2663, -7.2739, -7.2735, -7.2977, -6.3431, -7.152, -7.0201, -7.0853, -6.674, -7.1818, -6.9713, -7.1387, -6.9209, -7.1203, -6.2476, -7.1336, -6.3582, -6.9543, -7.1017, -6.6635, -7.1216, -7.1184, -3.9681, -4.5276, -5.1545, -5.2911, -5.2957, -4.9195, -4.5792, -5.1446, -6.1524, -6.1524, -6.1553, -5.3186, -5.1562, -6.3606, -6.4169, -6.4422, -6.4788, -5.1703, -5.0826, -6.0154, -5.2062, -5.1654, -5.1254, -6.5959, -7.0696, -5.1928, -5.7996, -7.255, -5.6998, -5.2054, -5.2506, -5.8284, -4.6746, -5.2903, -5.4422, -5.7489, -4.8846, -5.5458, -5.5781, -5.6406, -5.7197, -5.8204, -7.0214, -7.0352, -7.1206, -6.964, -7.0207, -7.06, -7.362, -7.435, -7.3218, -7.3539, -7.4631, -7.593, -7.5262, -7.458, -7.6242, -7.619, -7.7134, -7.7094, -7.4063, -7.7446, -7.5563, -6.8312, -7.6839, -7.4899, -7.834, -7.8385, -7.8424, -7.8644, -7.2796, -7.9042, -7.2208, -7.4158, -7.5156, -7.4057, -7.6308, -7.4663, -7.3802, -7.5077, -7.4247, -7.5392, -7.6026, -6.6065, -6.7437, -7.1225, -7.2479, -7.3631, -7.365, -7.4043, -7.4299, -7.1859, -6.126, -7.5954, -7.5954, -7.5536, -7.6411, -7.4764, -7.6498, -7.7053, -7.6991, -7.8347, -7.9251, -7.67, -7.9446, -7.9623, -7.7976, -7.9664, -7.9736, -7.6108, -7.6234, -7.9359, -7.9767, -7.7608, -6.7971, -6.5454, -7.0876, -7.2024, -7.6829, -7.2714, -6.8947, -6.3412, -7.2618, -6.4597, -6.038, -7.0231, -6.8596, -7.1847, -6.9554, -7.5577, -7.7389, -7.7612, -7.794, -7.7038, -7.6498, -7.9741, -7.7406, -8.0387, -7.8625, -8.1015, -8.06, -8.0506, -8.1597, -8.1724, -7.9299, -7.896, -8.2419, -8.1167, -8.2292, -8.2557, -8.2242, -8.0202, -8.3053, -8.3108, -7.8785, -8.0594, -7.9212, -7.7608, -7.8927, -8.1442, -6.927, -7.0933, -7.331, -7.0693, -7.3809, -6.7508, -7.5228, -6.9409, -7.5852, -7.6249, -7.7608, -7.7201, -7.5671, -7.797, -7.7678, -7.8666, -7.8145, -7.6066, -7.9701, -8.0372, -8.0492, -8.0523, -7.9191, -7.7871, -8.0991, -8.1356, -8.0523, -7.8636, -7.7666, -8.19, -7.2464, -7.7009, -7.4081, -5.7649, -7.6775, -7.3762, -7.9159, -7.778, -7.793, -6.7411, -7.4658, -7.3422, -7.4671, -7.5174, -7.5249, -7.5988, -7.7802, -7.7858, -7.692, -7.6679, -7.7972, -7.9182, -7.7902, -7.9446, -8.0085, -8.0208, -8.0304, -8.0913, -7.3099, -7.4847, -8.0152, -7.2672, -8.2263, -7.769, -7.7419, -7.8458, -8.3124, -8.1065, -8.3488, -8.1622, -6.8131, -8.0838, -7.419, -7.993, -8.0385, -7.6985, -7.8949, -6.4864, -6.7804, -6.9938, -7.0204, -7.1317, -7.3686, -7.1396, -6.8823, -7.3962, -7.8321, -7.7852, -7.7002, -7.6627, -7.973, -7.9229, -7.8839, -7.9852, -8.017, -7.5491, -7.6076, -7.965, -8.0158, -8.027, -7.9422, -8.0908, -8.0609, -7.8536, -8.1366, -8.0003, -7.8494, -7.5207, -6.9818, -6.9784, -7.3731, -7.1074, -7.4566, -7.9164, -7.2867, -7.7265, -6.8407, -6.5053, -7.4508, -7.6462, -7.5279, -7.5804, -7.5013, -7.9291, -7.7944, -8.0626, -7.9879, -8.0765, -7.8322, -7.1762, -8.109, -8.1225, -8.0686, -8.1733, -8.1771, -8.2074, -8.2104, -8.0155, -8.2512, -8.2613, -8.1757, -8.2897, -8.2163, -8.2125, -8.0289, -7.3706, -7.7616, -7.7388, -7.9583, -7.7801, -8.0354, -7.8692, -7.6776, -8.1489, -8.1523, -8.1593, -8.1496, -6.8355, -7.0097, -6.9828, -7.2842, -7.4808, -7.5548, -7.5466, -7.8269, -7.7301, -7.9934, -8.043, -8.0479, -8.0712, -8.1147, -8.115, -7.5948, -7.0016, -8.058, -8.1528, -8.2015, -8.2315, -8.2291, -8.2702, -8.274, -8.3112, -7.5638, -8.2416, -8.0945, -8.3722, -8.2952, -7.9532, -7.7029, -7.9682, -8.013, -8.1713, -8.1119, -8.1366, -8.1934, -7.2308, -7.6612, -7.7848, -7.664, -7.6919, -7.9086, -7.989, -7.9976, -8.0789, -8.1254, -8.1564, -8.1581, -8.1748, -8.201, -7.9821, -8.241, -8.2809, -8.3023, -8.3061, -8.2824, -8.3481, -8.3858, -8.3686, -8.4016, -8.3109, -8.1556, -8.3699, -8.3227, -8.0712, -8.3504, -8.1618, -7.9968, -7.9151, -8.1044, -7.9569, -7.786, -8.1673, -8.1273, -8.2755, -8.2754, -6.392, -6.9939, -7.7773, -7.8635, -7.983, -7.9807, -8.1022, -8.1104, -8.125, -8.1469, -8.1335, -8.1672, -8.0882, -8.2165, -8.2426, -8.2881, -8.3047, -8.3158, -8.3338, -8.3398, -8.3486, -8.3713, -8.3835, -8.4426, -8.4901, -8.34, -8.4196, -8.5272, -8.5362, -8.4456, -7.9892, -7.5684, -8.2095, -8.1502, -8.0386, -8.345, -7.9335, -8.2294, -8.1742, -8.1636, -8.1226, -6.7855, -6.7612, -6.9365, -6.93, -7.604, -7.6512, -7.8506, -7.967, -8.0065, -8.0275, -8.0748, -7.9157, -8.0477, -8.1762, -8.0365, -8.2254, -8.0636, -7.905, -8.2843, -8.2916, -8.0974, -8.3677, -8.3727, -8.3839, -8.4782, -8.3551, -8.3914, -8.4977, -8.4089, -8.5323, -8.1403, -7.8114, -8.1149, -8.0272, -7.2334, -7.9844, -8.3294, -7.7194, -7.7846, -7.9809, -8.1045, -8.0659, -8.1975, -7.2993, -8.2341, -6.8744, -7.8635, -8.2667, -8.2779, -8.1752, -7.9656, -8.3501, -8.3569, -8.1871, -8.3799, -8.3003, -8.4162, -8.3528, -8.4723, -8.2922, -8.5424, -8.5515, -8.3424, -8.5404, -8.5854, -8.5965, -8.3529, -8.3201, -8.4905, -8.1075, -8.4058, -8.062, -8.4055, -8.4074, -7.8729, -8.0034, -8.0124, -8.0413, -8.0358, -8.0152, -8.1596, -8.1941, -8.1061, -7.7335, -8.2499, -8.2674, -8.2765, -8.2046, -8.3028, -8.1836, -8.339, -8.2972, -8.3425, -8.3624, -8.1551, -8.4148, -8.4195, -8.435, -8.4381, -7.9418, -8.4532, -8.4394, -8.4683, -8.2893, -8.0144, -7.9106, -8.0162, -8.1861, -8.4129, -8.3666, -8.3888, -8.4118, -7.2647, -8.0304, -8.1262, -8.1742, -8.1787, -8.2033, -8.2201, -8.1076, -8.2356, -8.2962, -8.3089, -8.3303, -8.3373, -8.3457, -8.3741, -8.4191, -8.4514, -8.3315, -8.4093, -8.2043, -8.4314, -8.5836, -8.3974, -8.4999, -8.5461, -8.5601, -8.4281, -7.9977, -8.6433, -8.6226, -7.9812, -8.0798, -8.0449, -8.1993, -7.9868, -8.4163, -8.4248, -7.5134, -7.6627, -7.5902, -7.8792, -8.1038, -8.1562, -8.21, -8.1995, -8.0118, -8.2592, -8.2593, -8.0528, -8.3221, -8.1481, -8.4123, -8.4123, -8.4263, -8.4286, -8.4286, -8.369, -8.3449, -8.4331, -8.4846, -8.4977, -8.5, -8.4775, -8.529, -8.532, -8.5473, -8.5611, -8.2981, -7.8982, -7.8217, -7.7343, -8.2582, -7.4896, -8.1077, -8.3965, -8.2109, -8.3532, -7.4971, -7.7477, -7.8528, -7.8624, -7.8624, -8.1463, -8.157, -8.176, -8.2032, -7.9528, -8.2421, -8.2644, -8.1656, -8.2533, -8.2422, -8.244, -8.3749, -8.3637, -8.4053, -8.2908, -8.457, -8.4612, -8.3144, -7.6829, -8.1318, -8.4775, -8.3685, -8.2669, -8.554, -8.5496, -8.5189, -7.9038, -7.9327, -8.0837, -8.1974, -8.3106, -8.0902, -8.3154, -8.3593, -7.0248, -7.6966, -7.7156, -7.7186, -7.8909, -7.8936, -7.9729, -7.409, -7.6389, -8.0378, -8.0746, -8.2383, -7.8328, -8.2488, -8.1618, -8.4339, -8.4711, -7.9145, -8.4734, -8.4717, -8.0965, -8.5102, -8.5379, -8.1659, -8.49, -8.2769, -8.5939, -8.514, -8.5186, -8.6314, -8.3363, -7.9633, -8.4267, -8.1453, -8.2804, -8.1795, -8.432, -8.0137, -8.4457, -8.4547, -7.6866, -7.9606, -7.9622, -8.0469, -8.12, -8.0116, -7.979, -8.1806, -8.2983, -8.3547, -8.359, -8.4334, -8.4483, -8.3466, -8.5259, -8.6364, -8.6537, -8.4996, -8.6442, -8.6726, -8.6905, -8.4853, -8.5832, -8.7251, -8.7375, -8.7407, -8.7541, -8.7402, -8.718, -8.7769, -8.481, -7.9845, -8.1586, -8.5434, -8.6002, -8.5918, -8.5661, -8.4316, -8.6642, -7.3357, -8.0223, -7.8425, -8.1543, -8.2253, -8.169, -8.261, -8.2684, -8.0806, -8.2843, -8.0814, -7.5864, -7.9398, -8.352, -8.5069, -8.3383, -8.0534, -8.4918, -8.4764, -8.5123, -8.121, -8.4038, -8.618, -8.6603, -8.6438, -8.6684, -8.6684, -8.6718, -8.2918, -8.6827, -8.3594, -8.3211, -8.3152, -8.5526, -8.5204, -8.4634, -8.5465, -7.5673, -7.4967, -7.8711, -7.9182, -8.0222, -7.9959, -8.0349, -8.1581, -7.6075, -8.2194, -8.0667, -8.2916, -8.2916, -7.9139, -8.37, -7.7755, -8.4574, -8.3567, -8.4825, -8.4932, -8.4332, -8.17, -8.5523, -8.5568, -8.4155, -8.5908, -8.3605, -8.2892, -8.6272, -8.6286, -8.0652, -8.3294, -8.3705, -8.2703, -7.6983, -7.7978, -8.4207, -8.4064, -7.5491, -7.491, -7.8239, -8.1319, -8.3043, -8.3355, -8.3447, -8.3517, -8.2819, -8.425, -8.1531, -8.3593, -7.9393, -8.472, -8.3729, -8.386, -8.3923, -8.065, -8.3293, -8.5604, -8.3046, -7.642, -8.5863, -8.3706, -8.6014, -8.4641, -8.5559, -8.41, -8.5394, -8.5662, -8.4235, -8.5213, -8.4128, -8.4862, -8.4298, -8.5256, -7.5353, -7.9945, -7.9037, -8.1619, -8.1424, -8.0486, -8.2565, -8.1676, -8.2924, -8.3609, -8.3864, -8.2714, -8.0696, -8.4208, -8.4501, -8.3957, -8.068, -8.467, -8.5116, -8.5255, -8.5255, -8.4809, -8.3569, -8.6163, -8.5341, -8.6425, -8.6047, -8.7144, -8.5725, -8.7865, -8.5977, -8.0218, -8.1603, -8.2841, -8.4707, -8.5541, -8.4838, -7.7873, -7.8439, -8.1042, -7.5474, -8.2634, -8.0983, -8.3666, -8.2748, -8.4635, -8.4655, -8.4779, -8.4896, -8.5181, -8.5181, -8.5282, -8.5336, -8.3309, -8.5742, -8.5932, -8.4464, -8.5704, -8.6283, -8.594, -8.4823, -8.6374, -8.6704, -8.2237, -8.6838, -8.7157, -8.7305, -7.0084, -7.9254, -8.1892, -8.2591, -8.3722, -8.3037, -8.4644, -8.5317, -8.5497], \"loglift\": [30.0, 29.0, 28.0, 27.0, 26.0, 25.0, 24.0, 23.0, 22.0, 21.0, 20.0, 19.0, 18.0, 17.0, 16.0, 15.0, 14.0, 13.0, 12.0, 11.0, 10.0, 9.0, 8.0, 7.0, 6.0, 5.0, 4.0, 3.0, 2.0, 1.0, 0.5396, 0.5392, 0.539, 0.5387, 0.5387, 0.5386, 0.5385, 0.5384, 0.5381, 0.5379, 0.5378, 0.5377, 0.5377, 0.5376, 0.5376, 0.5372, 0.5371, 0.5371, 0.537, 0.5369, 0.5367, 0.5367, 0.5364, 0.5364, 0.5364, 0.5362, 0.5362, 0.5362, 0.5361, 0.5357, 0.5263, 2.0238, 2.0224, 2.0196, 2.0171, 2.0164, 2.0161, 2.0159, 2.0149, 2.011, 2.0109, 2.0075, 2.0073, 2.0065, 2.006, 2.0055, 2.0051, 2.0048, 2.0038, 2.0036, 2.0033, 2.0028, 2.0028, 2.0027, 2.0023, 2.0023, 2.0022, 2.0018, 2.0016, 2.001, 2.0006, 1.9366, 1.9341, 1.9768, 1.9035, 1.6923, 1.9598, 1.0983, 1.6146, 1.5613, 1.3425, 1.6681, 1.8744, 1.0873, 3.0247, 3.0128, 3.0049, 2.9929, 2.9871, 2.9729, 2.9715, 2.9678, 2.9675, 2.961, 2.9575, 2.954, 2.95, 2.9499, 2.9462, 2.9398, 2.9356, 2.9353, 2.9344, 2.9333, 2.9327, 2.9302, 2.9297, 2.9286, 2.9283, 2.9261, 2.9257, 2.9247, 2.924, 2.9215, 2.9069, 2.9193, 2.9115, 2.9104, 2.8691, 2.9178, 2.8827, 2.9059, 2.8331, 2.8934, 2.4576, 2.8919, 2.3351, 2.7126, 2.8216, 1.9165, 2.6791, 2.0775, 3.5056, 3.5014, 3.4906, 3.4864, 3.4862, 3.4854, 3.4673, 3.4665, 3.4423, 3.4423, 3.4421, 3.4392, 3.4335, 3.4251, 3.4199, 3.4175, 3.4138, 3.4028, 3.383, 3.3547, 3.348, 3.3476, 3.346, 3.3424, 3.3359, 3.3247, 3.2951, 3.2887, 3.2574, 3.2549, 3.2352, 3.2462, 2.816, 2.8826, 2.7292, 2.865, 2.0569, 2.3745, 2.3348, 2.2067, 2.0557, 1.8692, 3.6307, 3.6277, 3.6082, 3.597, 3.5823, 3.5673, 3.5459, 3.5248, 3.5152, 3.5016, 3.4928, 3.4753, 3.4649, 3.4505, 3.4377, 3.4357, 3.4339, 3.4239, 3.4231, 3.4226, 3.416, 3.4054, 3.4037, 3.4014, 3.3891, 3.3873, 3.3858, 3.3772, 3.376, 3.3614, 3.3499, 3.3533, 3.3271, 3.2922, 3.3285, 3.2587, 3.217, 3.0338, 2.7772, 2.9367, 3.061, 3.9547, 3.8897, 3.8273, 3.7885, 3.7497, 3.749, 3.7351, 3.7259, 3.7076, 3.6818, 3.6623, 3.6623, 3.6475, 3.6436, 3.6272, 3.626, 3.6165, 3.5754, 3.5587, 3.5159, 3.5078, 3.5064, 3.4977, 3.4964, 3.4957, 3.4921, 3.4806, 3.4697, 3.4684, 3.4667, 3.4458, 3.3479, 3.2359, 3.2019, 3.1197, 3.3489, 3.0248, 2.714, 1.9689, 2.8679, 1.2898, 4.1696, 4.0311, 4.0177, 3.9775, 3.9726, 3.7704, 3.7433, 3.7319, 3.7149, 3.66, 3.602, 3.5791, 3.5764, 3.5543, 3.5452, 3.5422, 3.5381, 3.5249, 3.5071, 3.4993, 3.4832, 3.4808, 3.456, 3.4543, 3.4477, 3.4472, 3.4453, 3.417, 3.4154, 3.4119, 3.3846, 3.3921, 3.3776, 3.2367, 3.28, 3.3596, 4.0924, 4.0116, 3.9492, 3.9389, 3.9196, 3.9156, 3.8648, 3.8503, 3.8354, 3.7593, 3.7474, 3.7256, 3.7221, 3.7142, 3.6995, 3.6906, 3.6796, 3.6425, 3.6325, 3.5934, 3.5863, 3.5844, 3.5832, 3.5672, 3.5563, 3.534, 3.516, 3.5144, 3.499, 3.4791, 3.4568, 3.4515, 3.3702, 2.9402, 3.4232, 2.8521, 3.3217, 2.8262, 2.8788, 4.1358, 3.9037, 3.9003, 3.8836, 3.8799, 3.8154, 3.7732, 3.7481, 3.7451, 3.7448, 3.7381, 3.7256, 3.6721, 3.6469, 3.6199, 3.6197, 3.6125, 3.6068, 3.5701, 3.5534, 3.5529, 3.5097, 3.4963, 3.4856, 3.4647, 3.4604, 3.4312, 3.4295, 3.4057, 3.4053, 3.3993, 3.3319, 3.3886, 3.15, 3.2936, 3.3037, 2.4714, 2.9289, 4.2357, 4.14, 4.1069, 4.0975, 4.0567, 3.9214, 3.8562, 3.8446, 3.787, 3.7303, 3.6811, 3.6724, 3.6537, 3.6499, 3.6499, 3.6411, 3.6278, 3.6239, 3.6153, 3.6138, 3.6074, 3.6003, 3.5967, 3.5882, 3.5791, 3.5713, 3.5711, 3.5507, 3.5288, 3.5264, 3.4801, 3.2201, 3.211, 3.3399, 3.2147, 3.207, 3.503, 2.2999, 2.7569, 4.1916, 4.0964, 3.9486, 3.8528, 3.8308, 3.7134, 3.6972, 3.633, 3.6305, 3.6151, 3.614, 3.6064, 3.6035, 3.5945, 3.586, 3.5774, 3.5633, 3.5449, 3.5424, 3.5227, 3.5207, 3.4981, 3.4938, 3.4871, 3.4827, 3.4681, 3.4667, 3.4556, 3.4544, 3.4532, 3.4432, 3.4396, 3.3656, 3.2173, 3.3393, 3.1652, 2.8055, 3.3312, 3.3222, 3.2336, 1.0733, 4.2284, 4.1663, 4.1333, 4.0402, 3.8481, 3.8023, 3.7842, 3.7769, 3.7737, 3.6774, 3.6464, 3.6433, 3.6286, 3.6007, 3.6005, 3.5866, 3.5674, 3.564, 3.5569, 3.5438, 3.5237, 3.5113, 3.4976, 3.495, 3.4695, 3.4625, 3.4571, 3.4388, 3.4271, 3.4225, 3.3391, 3.2224, 3.211, 2.9605, 3.2573, 2.9674, 2.8542, 2.5618, 4.109, 3.8489, 3.8247, 3.7529, 3.7248, 3.7083, 3.7009, 3.6955, 3.6433, 3.6127, 3.5921, 3.591, 3.5798, 3.5621, 3.5402, 3.5348, 3.5072, 3.4923, 3.4896, 3.4626, 3.46, 3.4331, 3.4253, 3.4218, 3.4206, 3.4178, 3.4145, 3.4037, 3.3889, 3.3882, 3.3757, 3.3062, 3.2314, 3.3022, 3.1155, 2.9055, 3.2394, 2.5527, 3.0155, 2.1155, 4.2798, 4.1053, 3.8802, 3.7997, 3.7493, 3.7261, 3.6691, 3.6635, 3.6534, 3.6383, 3.6262, 3.6241, 3.6226, 3.5894, 3.5708, 3.538, 3.526, 3.5179, 3.5047, 3.5003, 3.4938, 3.4702, 3.468, 3.3906, 3.3877, 3.3754, 3.3651, 3.3593, 3.3524, 3.3507, 3.3404, 3.3179, 3.3387, 3.3163, 3.2724, 3.3441, 3.0582, 3.223, 3.0792, 2.8626, 2.7336, 4.3144, 4.2929, 4.1935, 4.099, 3.8052, 3.8041, 3.7843, 3.7694, 3.7431, 3.7289, 3.6647, 3.6614, 3.6559, 3.6129, 3.6082, 3.5909, 3.5859, 3.5758, 3.5483, 3.5274, 3.494, 3.4868, 3.483, 3.4747, 3.4033, 3.3961, 3.389, 3.3882, 3.378, 3.3615, 3.3515, 3.1895, 3.1707, 3.0477, 2.2466, 0.7208, 2.8464, 3.9292, 3.7835, 3.7625, 3.6784, 3.6528, 3.5959, 3.595, 3.5866, 3.579, 3.5768, 3.563, 3.5548, 3.541, 3.5301, 3.5017, 3.4966, 3.4823, 3.4794, 3.4624, 3.4271, 3.4088, 3.3815, 3.3623, 3.3552, 3.3404, 3.3357, 3.3233, 3.3216, 3.3129, 3.3069, 3.2613, 3.2777, 2.7445, 3.1408, 2.5423, 2.9848, 2.8782, 3.764, 3.749, 3.7429, 3.7232, 3.701, 3.6702, 3.6411, 3.6166, 3.6122, 3.5903, 3.5765, 3.5637, 3.5571, 3.5439, 3.5378, 3.5137, 3.5111, 3.51, 3.5084, 3.4648, 3.4642, 3.4542, 3.4507, 3.4389, 3.4365, 3.4329, 3.425, 3.4186, 3.4135, 3.4018, 3.3705, 3.2744, 3.2366, 2.8097, 3.2477, 2.6596, 2.3596, 3.2046, 3.9706, 3.7338, 3.6673, 3.6336, 3.6304, 3.6128, 3.6007, 3.5869, 3.5485, 3.5452, 3.5358, 3.52, 3.5148, 3.5085, 3.4438, 3.4438, 3.4287, 3.4116, 3.3974, 3.3595, 3.3402, 3.3259, 3.3254, 3.317, 3.3156, 3.3078, 3.2884, 3.2858, 3.2786, 3.2721, 3.2526, 3.2547, 3.1926, 3.1466, 2.7507, 3.1442, 3.1503, 4.0562, 3.9697, 3.832, 3.8114, 3.6836, 3.6467, 3.6083, 3.5861, 3.5779, 3.5727, 3.5726, 3.5477, 3.5264, 3.5118, 3.4587, 3.4587, 3.4481, 3.4463, 3.4463, 3.4436, 3.4371, 3.4076, 3.4034, 3.3933, 3.3915, 3.3702, 3.369, 3.3666, 3.3547, 3.3439, 3.3423, 3.2503, 3.2117, 3.1794, 3.2872, 2.9863, 3.2283, 3.3196, 3.0198, 2.8691, 4.0699, 3.9219, 3.8554, 3.8062, 3.8062, 3.6567, 3.6491, 3.6355, 3.616, 3.6009, 3.5878, 3.5614, 3.5517, 3.5514, 3.5397, 3.4996, 3.4793, 3.4727, 3.4664, 3.4655, 3.427, 3.4237, 3.4175, 3.4037, 3.4003, 3.3818, 3.3575, 3.3383, 3.3147, 3.3102, 3.3064, 3.2148, 3.07, 3.0, 3.0749, 3.1457, 2.203, 3.0894, 2.903, 4.155, 3.9627, 3.951, 3.8736, 3.8389, 3.818, 3.7841, 3.7509, 3.7418, 3.7397, 3.7142, 3.5969, 3.5674, 3.561, 3.5259, 3.4501, 3.4213, 3.4201, 3.4196, 3.3947, 3.3919, 3.3909, 3.3692, 3.3496, 3.3464, 3.3273, 3.3248, 3.3221, 3.3006, 3.2949, 3.2866, 3.1087, 3.2439, 2.8574, 3.0119, 2.7021, 3.2219, 2.2228, 2.7815, 2.7787, 3.9204, 3.8022, 3.7295, 3.7162, 3.6908, 3.6413, 3.6306, 3.628, 3.5315, 3.5176, 3.4938, 3.4572, 3.4305, 3.4159, 3.3848, 3.2965, 3.2826, 3.2777, 3.2722, 3.2671, 3.2526, 3.2431, 3.2288, 3.2242, 3.2141, 3.2115, 3.2004, 3.1975, 3.1841, 3.1815, 3.1624, 2.9687, 3.0058, 3.0542, 3.0933, 3.0539, 2.8809, 2.4106, 1.4808, 4.0684, 3.7441, 3.672, 3.6478, 3.6147, 3.5969, 3.5882, 3.5828, 3.5705, 3.5535, 3.531, 3.5208, 3.5079, 3.4947, 3.4, 3.3964, 3.3913, 3.3899, 3.3813, 3.3417, 3.3391, 3.3244, 3.3115, 3.2774, 3.2724, 3.2708, 3.2708, 3.268, 3.2611, 3.2591, 3.2569, 3.2167, 3.142, 3.0943, 2.8801, 2.57, 2.824, 4.0568, 4.0382, 3.8507, 3.8342, 3.7628, 3.7495, 3.7268, 3.6662, 3.6453, 3.6214, 3.5819, 3.5677, 3.5677, 3.5526, 3.5083, 3.5037, 3.4407, 3.4241, 3.4211, 3.4126, 3.4005, 3.3981, 3.3658, 3.3622, 3.3608, 3.3351, 3.3296, 3.3096, 3.3057, 3.3046, 3.2547, 3.2632, 3.231, 3.1806, 2.8724, 2.8578, 3.1771, 2.6054, 4.048, 3.9365, 3.7364, 3.638, 3.5669, 3.5414, 3.536, 3.5306, 3.4994, 3.4738, 3.4733, 3.4628, 3.4534, 3.4369, 3.4307, 3.4276, 3.3909, 3.3806, 3.3804, 3.3665, 3.3663, 3.3472, 3.3456, 3.3338, 3.3334, 3.3164, 3.3013, 3.2888, 3.2785, 3.2766, 3.1021, 3.1848, 2.5607, 2.8824, 2.1335, 2.6729, 4.092, 3.6763, 3.673, 3.6273, 3.6112, 3.6044, 3.6036, 3.5811, 3.5765, 3.5242, 3.5044, 3.4768, 3.4708, 3.4667, 3.4547, 3.4534, 3.4504, 3.4414, 3.4061, 3.3949, 3.3949, 3.3768, 3.3412, 3.3218, 3.3091, 3.3004, 3.2757, 3.2413, 3.2072, 3.1813, 3.162, 2.9699, 2.6819, 2.8101, 2.9151, 2.863, 1.901, 3.9347, 3.8525, 3.7021, 3.6509, 3.5987, 3.5414, 3.52, 3.4684, 3.4443, 3.4427, 3.4329, 3.4237, 3.401, 3.401, 3.393, 3.3887, 3.3812, 3.3561, 3.3407, 3.3405, 3.3259, 3.3122, 3.3066, 3.3055, 3.3048, 3.2777, 3.2586, 3.2415, 3.2404, 3.2281, 3.2281, 3.0664, 2.9977, 3.0144, 3.047, 2.8721, 3.0786, 3.0721, 2.4021]}, \"token.table\": {\"Topic\": [1, 1, 2, 2, 1, 4, 2, 3, 11, 1, 4, 4, 1, 4, 1, 2, 3, 1, 4, 2, 3, 6, 3, 2, 4, 4, 1, 2, 2, 10, 1, 2, 3, 4, 1, 4, 4, 5, 2, 2, 1, 2, 1, 2, 1, 1, 2, 4, 2, 3, 3, 5, 1, 1, 1, 5, 2, 2, 3, 3, 1, 3, 3, 1, 4, 1, 2, 1, 4, 2, 1, 4, 3, 2, 2, 3, 4, 1, 4, 2, 1, 2, 2, 4, 5, 3, 1, 4, 3, 2, 2, 4, 5, 1, 4, 3, 2, 2, 1, 3, 1, 2, 1, 2, 3, 1, 4, 1, 5, 1, 4, 1, 1, 4, 2, 3, 4, 3, 5, 4, 3, 2, 6, 2, 2, 2, 4, 5, 3, 6, 3, 2, 3, 2, 3, 14, 2, 1, 6, 3, 6, 3, 3, 1, 3, 1, 4, 3, 4, 1, 4, 3, 1, 1, 4, 4, 2, 7, 3, 3, 3, 1, 1, 2, 2, 3, 1, 1, 6, 4, 3, 3, 4, 4, 3, 3, 3, 2, 1, 2, 3, 3, 4, 8, 3, 3, 3, 1, 3, 6, 4, 2, 3, 1, 1, 2, 1, 1, 3, 2, 1, 2, 2, 4, 3, 2, 1, 3, 5, 4, 2, 3, 3, 2, 3, 1, 4, 5, 4, 1, 4, 5, 1, 3, 2, 4, 1, 4, 1, 4, 3, 1, 1, 3, 1, 3, 3, 2, 2, 3, 1, 4, 4, 3, 1, 1, 1, 1, 6], \"Freq\": [1.0044239349423345, 1.0035488175528429, 0.9427754686975917, 1.0043066082132746, 0.7431882057946851, 0.27025025665261276, 0.8021242811510739, 0.7047886686853917, 1.0615177244251244, 0.24943149726529934, 0.748294491795898, 0.839675219445011, 0.5605945899112275, 0.46716215825935625, 0.4217799619443395, 0.28118664129622634, 0.28118664129622634, 0.12538812097805646, 0.8777168468463953, 0.91503039155801, 0.9447986517009168, 0.6723694615519535, 0.6700776739722788, 0.2305439679895133, 0.6916319039685399, 0.7797743069908962, 0.36908854374692446, 0.6459049515571178, 0.7693717138557863, 1.197316455096488, 0.4674134207468126, 0.5258400983401642, 0.2049943621711681, 0.8199774486846724, 0.1396135418696448, 0.8376812512178688, 1.0447730318944033, 1.0629697150896729, 1.0136888359093525, 1.0607694502032237, 0.5922400399422076, 0.41456802795954534, 0.6079473688731183, 0.3951657897675269, 0.9893581604721858, 1.000103953080038, 0.9796752641414488, 0.730762061861084, 0.9452356842884193, 1.0052504652687804, 0.91520278880156, 1.1203488206104384, 0.9994056551057616, 1.0049000495042197, 0.99172899662366, 1.128538043549525, 0.9455751019924293, 0.9130341651460957, 0.8546159394541155, 0.7241453672050956, 0.9909543516328653, 0.691805959437547, 0.909512378237557, 0.4363124320130919, 0.5817499093507892, 0.298202826375433, 0.7156867833010392, 0.7545819880062388, 0.25152732933541294, 1.0012135255545949, 0.13205669078530688, 0.7923401447118412, 0.5790883187265589, 1.0501472488597323, 0.9551657553171652, 0.5386659191897848, 1.0936313955919623, 0.13147343333955927, 0.7888406000373556, 1.0272192713297885, 0.110438569619934, 0.883508556959472, 1.0295449017036393, 0.9894998365896066, 0.7368121000264183, 0.8609572954699755, 0.6492755474119339, 0.28856690996085954, 0.7365750728862951, 1.237742070350009, 1.0161410961187165, 1.0151176957484513, 1.2054989721111475, 0.2558929166119887, 0.7676787498359662, 1.026150973158848, 1.038497489811639, 0.9027644440817235, 1.0014901601492607, 1.0215168463542272, 0.1081723652643151, 0.9194651047466784, 0.3323692128931415, 0.5816461225629975, 0.6931654436675765, 0.46784422768705247, 0.561413073224463, 0.9856101445913039, 1.0891037288111411, 0.654093817179228, 0.290708363190768, 0.9968534491145922, 0.1261079581897469, 0.8827557073282284, 0.5205286495868292, 0.2602643247934146, 0.9881003985884761, 0.7086163231816612, 1.019255190630337, 0.7776481937634656, 0.6101050185476384, 0.786547609038841, 0.3932738045194205, 1.0006609620788887, 0.9478148153750857, 0.9082686612042608, 0.9388321958478169, 1.1164341471889687, 0.9637735407581856, 1.0957890492925932, 0.6621427333706185, 0.9411948258600934, 0.589653483175317, 0.8791327510487482, 0.09768141678319425, 1.1386896949723961, 0.9998584529573347, 0.9191390489658962, 0.06127593659772641, 0.4673552674302676, 0.4673552674302676, 0.5966521813237787, 0.9087940416001069, 0.9980111704063982, 0.6725430628044765, 0.13699959469888737, 0.8219975681933243, 1.229294200766542, 0.8517362205072221, 0.764754778285727, 0.21850136522449343, 0.826224708770777, 0.9972222760232687, 0.5202178664525559, 0.4729253331386872, 0.9293427566177261, 0.9625261245597138, 0.7158035519651255, 0.6425084705059042, 0.6608215932998921, 0.9955115921287312, 0.6915915378212674, 0.9812133270456398, 0.6892962181954444, 0.9734786297631499, 0.6081635383464139, 1.0017627940769436, 0.47993602331597085, 0.47993602331597085, 0.8723839961461114, 0.776872523216287, 0.824226400138583, 0.9764627071032058, 0.9723626869858585, 0.6245710181546787, 0.8598259799854495, 0.8336936929043745, 0.9391785166937943, 0.3277354741185833, 0.6554709482371666, 0.6595060597314562, 0.47796568188825195, 0.15932189396275065, 0.15932189396275065, 0.7094134327171765, 0.7032418521032363, 0.8288140020460858, 0.751291897543341, 0.10732741393476301, 0.10732741393476301, 0.9002727855149201, 1.0181849081002967, 0.5921880260935838, 1.008788203711355, 0.979201908035602, 1.048749562937691, 0.9952766443916995, 1.002938364429733, 1.0862733078758728, 1.034005296421246, 0.16057921662982927, 0.8028960831491464, 0.9275247139914905, 1.0109439569156813, 0.9046929881381894, 1.013642938016986, 0.9960498610028963, 0.5925726592233885, 1.0291975954044783, 1.0322954820655146, 0.47235466375311097, 0.47235466375311097, 0.9737939708368991, 0.9903381073651764, 1.0176932997843076, 1.0005856015838444, 0.944001740089402, 1.3432089583700777, 1.0016855164122482, 0.8079282936354114, 0.17312749149330242, 1.368268033926665, 0.9931483222331299, 0.9099651693252133, 0.9887323424396031, 0.7056438678308347, 1.0035457346825785, 1.0276690501603627, 0.9955265498494352, 0.7755908750355724, 0.9431335882181449, 0.9902108531520948, 0.9863260238624969, 0.6866387150172358, 0.9937540278067869, 0.6645634908093512, 0.4765310303876844, 1.161254036995328, 0.8808349215002337, 0.9789347164375075, 0.8709943463406148, 0.062213881881472484, 0.7755908750355724, 0.63978740539519, 0.9978455365971464, 0.9984362937250137, 1.0034910623406916, 0.990481054124459, 1.019452432338089], \"Term\": [\"000\", \"19\", \"aducanumab\", \"adults\", \"al\", \"al\", \"alzheimer\", \"americas\", \"amyloid\", \"app\", \"app\", \"apple\", \"article\", \"article\", \"astronomers\", \"astronomers\", \"astronomers\", \"audio\", \"audio\", \"babies\", \"bank\", \"bats\", \"beneath\", \"benjamin\", \"benjamin\", \"bird\", \"blood\", \"blood\", \"booster\", \"boosters\", \"brain\", \"brain\", \"briefing\", \"briefing\", \"browser\", \"browser\", \"bundell\", \"cao\", \"cas9\", \"cdc\", \"cell\", \"cell\", \"cells\", \"cells\", \"china\", \"climate\", \"collaborations\", \"collider\", \"computer\", \"computing\", \"cooper\", \"cord\", \"coronavirus\", \"countries\", \"covid\", \"crackdown\", \"crispr\", \"crucial\", \"crystals\", \"curiosity\", \"data\", \"destroyed\", \"device\", \"discuss\", \"discuss\", \"dna\", \"dna\", \"does\", \"does\", \"donald\", \"download\", \"download\", \"ecosystem\", \"edited\", \"editing\", \"electrical\", \"electrons\", \"element\", \"element\", \"embryo\", \"embryos\", \"embryos\", \"epa\", \"episode\", \"erc\", \"esa\", \"et\", \"et\", \"ethical\", \"eukaryotes\", \"facilities\", \"favourite\", \"fbi\", \"feed\", \"feed\", \"fly\", \"foreign\", \"french\", \"funding\", \"fungus\", \"gene\", \"gene\", \"genome\", \"genome\", \"glacier\", \"google\", \"google\", \"government\", \"gun\", \"head\", \"head\", \"health\", \"highlight\", \"highlight\", \"holes\", \"holes\", \"howe\", \"hurricane\", \"hydroxychloroquine\", \"inbox\", \"infrared\", \"insight\", \"insight\", \"intelligence\", \"iran\", \"israel\", \"itunes\", \"ivermectin\", \"jet\", \"jezero\", \"jpl\", \"korea\", \"landed\", \"light\", \"light\", \"ligo\", \"machine\", \"mars\", \"mars\", \"martian\", \"martian\", \"mathematicians\", \"methane\", \"million\", \"mirror\", \"miss\", \"miss\", \"moons\", \"mp3\", \"nature\", \"nature\", \"neutron\", \"new\", \"news\", \"news\", \"noah\", \"nuclear\", \"oa\", \"observatories\", \"observing\", \"organs\", \"ozone\", \"pandemic\", \"parker\", \"parliament\", \"pasadena\", \"people\", \"perseverance\", \"perseverance\", \"petri\\u0107\", \"pigs\", \"planets\", \"podcast\", \"podcasts\", \"pole\", \"problematic\", \"properties\", \"proposal\", \"proteins\", \"proteins\", \"pruitt\", \"quantum\", \"quantum\", \"quantum\", \"reactor\", \"revolution\", \"rocket\", \"rover\", \"rover\", \"rover\", \"rss\", \"rules\", \"rural\", \"said\", \"sars\", \"satellites\", \"science\", \"scientists\", \"scott\", \"sequence\", \"sequences\", \"sequences\", \"sequencing\", \"shamini\", \"ship\", \"software\", \"space\", \"spacex\", \"spinal\", \"spotify\", \"star\", \"star\", \"stars\", \"stem\", \"storms\", \"study\", \"subscribe\", \"sudan\", \"superconductivity\", \"support\", \"support\", \"talents\", \"team\", \"telescopes\", \"therapies\", \"thompson\", \"time\", \"transcript\", \"united\", \"unmissable\", \"vaccinate\", \"vaccine\", \"vaccines\", \"vehicles\", \"virus\", \"visible\", \"wang\", \"wastewater\", \"wave\", \"webb\", \"week\", \"week\", \"weekday\", \"winds\", \"work\", \"world\", \"year\", \"years\", \"zhurong\"]}, \"R\": 30, \"lambda.step\": 0.01, \"plot.opts\": {\"xlab\": \"PC1\", \"ylab\": \"PC2\"}, \"topic.order\": [21, 10, 6, 26, 4, 3, 8, 13, 9, 23, 2, 12, 14, 27, 18, 19, 1, 15, 16, 22, 7, 5, 25, 20, 11, 24, 17]};\n",
       "\n",
       "function LDAvis_load_lib(url, callback){\n",
       "  var s = document.createElement('script');\n",
       "  s.src = url;\n",
       "  s.async = true;\n",
       "  s.onreadystatechange = s.onload = callback;\n",
       "  s.onerror = function(){console.warn(\"failed to load library \" + url);};\n",
       "  document.getElementsByTagName(\"head\")[0].appendChild(s);\n",
       "}\n",
       "\n",
       "if(typeof(LDAvis) !== \"undefined\"){\n",
       "   // already loaded: just create the visualization\n",
       "   !function(LDAvis){\n",
       "       new LDAvis(\"#\" + \"ldavis_el14707140052920033056810832682\", ldavis_el14707140052920033056810832682_data);\n",
       "   }(LDAvis);\n",
       "}else if(typeof define === \"function\" && define.amd){\n",
       "   // require.js is available: use it to load d3/LDAvis\n",
       "   require.config({paths: {d3: \"https://d3js.org/d3.v5\"}});\n",
       "   require([\"d3\"], function(d3){\n",
       "      window.d3 = d3;\n",
       "      LDAvis_load_lib(\"https://cdn.jsdelivr.net/gh/bmabey/pyLDAvis@3.3.1/pyLDAvis/js/ldavis.v3.0.0.js\", function(){\n",
       "        new LDAvis(\"#\" + \"ldavis_el14707140052920033056810832682\", ldavis_el14707140052920033056810832682_data);\n",
       "      });\n",
       "    });\n",
       "}else{\n",
       "    // require.js not available: dynamically load d3 & LDAvis\n",
       "    LDAvis_load_lib(\"https://d3js.org/d3.v5.js\", function(){\n",
       "         LDAvis_load_lib(\"https://cdn.jsdelivr.net/gh/bmabey/pyLDAvis@3.3.1/pyLDAvis/js/ldavis.v3.0.0.js\", function(){\n",
       "                 new LDAvis(\"#\" + \"ldavis_el14707140052920033056810832682\", ldavis_el14707140052920033056810832682_data);\n",
       "            })\n",
       "         });\n",
       "}\n",
       "</script>"
      ],
      "text/plain": [
       "PreparedData(topic_coordinates=              x         y  topics  cluster       Freq\n",
       "topic                                                \n",
       "20    -0.404139 -0.012871       1        1  58.145856\n",
       "9      0.042951 -0.260702       2        1  13.007600\n",
       "5      0.042741  0.058129       3        1   4.649065\n",
       "25     0.019080  0.033786       4        1   2.960064\n",
       "3      0.027420  0.026192       5        1   2.072109\n",
       "2      0.019987  0.018426       6        1   1.530926\n",
       "7      0.016827  0.012127       7        1   1.161900\n",
       "12     0.016305  0.011510       8        1   1.124498\n",
       "8      0.015798  0.011082       9        1   1.097873\n",
       "22     0.015560  0.009901      10        1   1.072403\n",
       "1      0.014778  0.009262      11        1   1.019510\n",
       "11     0.013913  0.008623      12        1   0.966799\n",
       "13     0.013163  0.007679      13        1   0.912890\n",
       "26     0.011462  0.005832      14        1   0.801061\n",
       "17     0.010985  0.005588      15        1   0.778079\n",
       "18     0.010961  0.005336      16        1   0.772442\n",
       "0      0.010954  0.005431      17        1   0.768764\n",
       "14     0.010803  0.005178      18        1   0.761006\n",
       "15     0.010792  0.005353      19        1   0.759967\n",
       "21     0.010687  0.005049      20        1   0.751990\n",
       "6      0.010442  0.004897      21        1   0.733527\n",
       "4      0.010027  0.004410      22        1   0.710793\n",
       "24     0.009988  0.004372      23        1   0.710189\n",
       "19     0.009936  0.004358      24        1   0.703555\n",
       "10     0.009558  0.003675      25        1   0.677181\n",
       "23     0.009485  0.003703      26        1   0.675283\n",
       "16     0.009536  0.003677      27        1   0.674666, topic_info=           Term       Freq      Total Category  logprob  loglift\n",
       "35742    nature  36.000000  36.000000  Default  30.0000  30.0000\n",
       "40533   podcast  21.000000  21.000000  Default  29.0000  29.0000\n",
       "36220      news  21.000000  21.000000  Default  28.0000  28.0000\n",
       "40535  podcasts  12.000000  12.000000  Default  27.0000  27.0000\n",
       "18118   episode  12.000000  12.000000  Default  26.0000  26.0000\n",
       "...         ...        ...        ...      ...      ...      ...\n",
       "46352      sato   0.059077   0.415956  Topic27  -8.3722   3.0470\n",
       "28959  ketamine   0.063265   0.530537  Topic27  -8.3037   2.8721\n",
       "6123      beall   0.053869   0.367494  Topic27  -8.4644   3.0786\n",
       "21641       gcf   0.050365   0.345812  Topic27  -8.5317   3.0721\n",
       "23659  hammered   0.049465   0.663727  Topic27  -8.5497   2.4021\n",
       "\n",
       "[1082 rows x 6 columns], token_table=       Topic      Freq        Term\n",
       "term                              \n",
       "1          1  1.004424         000\n",
       "427        1  1.003549          19\n",
       "2445       2  0.942775  aducanumab\n",
       "2448       2  1.004307      adults\n",
       "2915       1  0.743188          al\n",
       "...      ...       ...         ...\n",
       "57791      1  0.997846        work\n",
       "57832      1  0.998436       world\n",
       "58217      1  1.003491        year\n",
       "58234      1  0.990481       years\n",
       "58681      6  1.019452     zhurong\n",
       "\n",
       "[249 rows x 3 columns], R=30, lambda_step=0.01, plot_opts={'xlab': 'PC1', 'ylab': 'PC2'}, topic_order=[21, 10, 6, 26, 4, 3, 8, 13, 9, 23, 2, 12, 14, 27, 18, 19, 1, 15, 16, 22, 7, 5, 25, 20, 11, 24, 17])"
      ]
     },
     "execution_count": 24,
     "metadata": {},
     "output_type": "execute_result"
    }
   ],
   "source": [
    "pyLDAvis.sklearn.prepare(lda, X, vectorizer)"
   ]
  },
  {
   "cell_type": "markdown",
   "id": "37fcdde3",
   "metadata": {},
   "source": [
    "Limitations/Challenges\n",
    "- Not enough data with the sentiment classifier so low accuracy results.\n",
    "- Hard to find optimal number of topics for project without having irrelevant topics."
   ]
  }
 ],
 "metadata": {
  "kernelspec": {
   "display_name": "Python 3 (ipykernel)",
   "language": "python",
   "name": "python3"
  },
  "language_info": {
   "codemirror_mode": {
    "name": "ipython",
    "version": 3
   },
   "file_extension": ".py",
   "mimetype": "text/x-python",
   "name": "python",
   "nbconvert_exporter": "python",
   "pygments_lexer": "ipython3",
   "version": "3.8.0"
  }
 },
 "nbformat": 4,
 "nbformat_minor": 5
}
