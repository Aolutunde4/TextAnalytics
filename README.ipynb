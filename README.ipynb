{
 "cells": [
  {
   "cell_type": "markdown",
   "id": "dabbdc54",
   "metadata": {},
   "source": [
    "# HTML"
   ]
  },
  {
   "cell_type": "markdown",
   "id": "9f565af3",
   "metadata": {},
   "source": [
    "The notebook HTML_extraction.ipynb contains all the code for extracting the title, author, date, and text of over 3,000 articles from nature.com. We did not use any outside libraries in this process. \n",
    "The articles.txt file contains the article data in the following format: title|author|date|body"
   ]
  },
  {
   "cell_type": "markdown",
   "id": "4ef08151",
   "metadata": {},
   "source": [
    "The folder called project_htmls contains the html code for each article. Each article is named with its title and we can open these files to extract their html code."
   ]
  },
  {
   "cell_type": "markdown",
   "id": "c654153b",
   "metadata": {},
   "source": [
    "project_excel_sentences.xlsx contains 2,000 randomly sampled sentences from our articles. When then hand labeled these sentences as positive, negative, or neutral and exported the results. The labeled sentences can be found in project_excel_sentences_labeled.xlsx."
   ]
  },
  {
   "cell_type": "markdown",
   "id": "b02ec053",
   "metadata": {},
   "source": [
    "https://www.nature.com/latest-news?page=1"
   ]
  },
  {
   "cell_type": "markdown",
   "id": "a18b8250",
   "metadata": {},
   "source": [
    "# Sentiment Classifier"
   ]
  },
  {
   "cell_type": "markdown",
   "id": "4991bc8b",
   "metadata": {},
   "source": [
    "The notebook sentiment_classifier.ipynb contains all the code for different supervised machine learning models. Our goal is to classify sentences from the articles we extracted as positive, negative, or neutral polarity. We used the GridSearchCV function from the sklearn library to test various parameters."
   ]
  },
  {
   "cell_type": "markdown",
   "id": "17f685ee",
   "metadata": {},
   "source": [
    "# Clustering and Topic Modeling"
   ]
  },
  {
   "cell_type": "markdown",
   "id": "3f0f0471",
   "metadata": {},
   "source": [
    "The notebook Clustering and Topic Modeling notebook.ipynb contains all the code for the unsupervised machine learning models\n",
    "The first model we used was K-means, second was Topic Modeling. Our goal was to find the optimial number of k and topics\n",
    "for the data that was collected. The only library we used outside of class was the warnings library. This was to mitigate\n",
    "the warnings, making the notebook more neat."
   ]
  }
 ],
 "metadata": {
  "kernelspec": {
   "display_name": "Python 3 (ipykernel)",
   "language": "python",
   "name": "python3"
  },
  "language_info": {
   "codemirror_mode": {
    "name": "ipython",
    "version": 3
   },
   "file_extension": ".py",
   "mimetype": "text/x-python",
   "name": "python",
   "nbconvert_exporter": "python",
   "pygments_lexer": "ipython3",
   "version": "3.8.0"
  }
 },
 "nbformat": 4,
 "nbformat_minor": 5
}
